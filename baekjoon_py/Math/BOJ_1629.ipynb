{
  "nbformat": 4,
  "nbformat_minor": 0,
  "metadata": {
    "colab": {
      "provenance": []
    },
    "kernelspec": {
      "name": "python3",
      "display_name": "Python 3"
    },
    "language_info": {
      "name": "python"
    }
  },
  "cells": [
    {
      "cell_type": "code",
      "execution_count": 16,
      "metadata": {
        "colab": {
          "base_uri": "https://localhost:8080/"
        },
        "id": "AyA9cWixjct3",
        "outputId": "0b749e58-0542-4465-8d9c-dccbf637f18d"
      },
      "outputs": [
        {
          "output_type": "stream",
          "name": "stdout",
          "text": [
            "10 11 12\n",
            "4\n"
          ]
        }
      ],
      "source": [
        "a,b,c = map(int,input().split())\n",
        "def solve(a,b,c):\n",
        "  if b==1:\n",
        "    return a%c\n",
        "\n",
        "  elif b%2 == 0:\n",
        "    return solve(a,b//2,c)**2%c\n",
        "\n",
        "  else:\n",
        "    return (solve(a,b//2,c)**2)*a%c\n",
        "\n",
        "\n",
        "print(solve(a,b,c))"
      ]
    }
  ]
}