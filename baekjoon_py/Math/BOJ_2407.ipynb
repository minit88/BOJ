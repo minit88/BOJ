{
  "nbformat": 4,
  "nbformat_minor": 0,
  "metadata": {
    "colab": {
      "provenance": []
    },
    "kernelspec": {
      "name": "python3",
      "display_name": "Python 3"
    },
    "language_info": {
      "name": "python"
    }
  },
  "cells": [
    {
      "cell_type": "code",
      "execution_count": 4,
      "metadata": {
        "colab": {
          "base_uri": "https://localhost:8080/"
        },
        "id": "i_asVdhx0AZ0",
        "outputId": "4ed1dbdf-7fb0-41ad-bd0b-d7a44ccc3e71"
      },
      "outputs": [
        {
          "output_type": "stream",
          "name": "stdout",
          "text": [
            "100 6\n",
            "1192052400\n"
          ]
        }
      ],
      "source": [
        "import math\n",
        "n,m = map(int,input().split())\n",
        "result=1\n",
        "for i in range(m):\n",
        "  result*=n\n",
        "  n-=1\n",
        "print(result//math.factorial(m))"
      ]
    }
  ]
}