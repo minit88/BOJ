{
 "cells": [
  {
   "cell_type": "code",
   "id": "initial_id",
   "metadata": {
    "collapsed": true,
    "ExecuteTime": {
     "end_time": "2024-04-29T20:30:26.183423Z",
     "start_time": "2024-04-29T20:30:24.935979Z"
    }
   },
   "source": [
    "from math import factorial\n",
    "\n",
    "N = int(input())\n",
    "\n",
    "result = 0\n",
    "processedFactorial = list(map(int, str(factorial(N))))\n",
    "processedFactorial.reverse()\n",
    "\n",
    "for i in range(N):\n",
    "    if processedFactorial[i]== 0 :\n",
    "        result+=1\n",
    "    else :\n",
    "        break\n",
    "print(result)"
   ],
   "outputs": [
    {
     "name": "stdout",
     "output_type": "stream",
     "text": [
      "2\n"
     ]
    }
   ],
   "execution_count": 6
  }
 ],
 "metadata": {
  "kernelspec": {
   "display_name": "Python 3",
   "language": "python",
   "name": "python3"
  },
  "language_info": {
   "codemirror_mode": {
    "name": "ipython",
    "version": 2
   },
   "file_extension": ".py",
   "mimetype": "text/x-python",
   "name": "python",
   "nbconvert_exporter": "python",
   "pygments_lexer": "ipython2",
   "version": "2.7.6"
  }
 },
 "nbformat": 4,
 "nbformat_minor": 5
}
