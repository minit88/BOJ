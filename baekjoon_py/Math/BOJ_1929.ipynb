{
 "cells": [
  {
   "metadata": {
    "ExecuteTime": {
     "end_time": "2024-04-29T21:14:57.572812Z",
     "start_time": "2024-04-29T21:14:57.569677Z"
    }
   },
   "cell_type": "code",
   "source": "from math import sqrt",
   "id": "f764e411733f12a3",
   "outputs": [],
   "execution_count": 17
  },
  {
   "cell_type": "code",
   "id": "initial_id",
   "metadata": {
    "collapsed": true,
    "ExecuteTime": {
     "end_time": "2024-04-29T21:14:57.580510Z",
     "start_time": "2024-04-29T21:14:57.577262Z"
    }
   },
   "source": [
    "def checkPrimeNumber (num):\n",
    "    numSqrt = int(sqrt(num))\n",
    "    \n",
    "    result = 0\n",
    "    \n",
    "    for i in range(2,numSqrt+1):\n",
    "        if num%i==0 :\n",
    "            result = -1 # 0 으로 나누어 떨어지면 소수가 아님 즉, 소수가 아닐 경우 -1\n",
    "            break\n",
    "\n",
    "    return result  "
   ],
   "outputs": [],
   "execution_count": 18
  },
  {
   "metadata": {
    "ExecuteTime": {
     "end_time": "2024-04-29T21:14:58.790859Z",
     "start_time": "2024-04-29T21:14:57.582748Z"
    }
   },
   "cell_type": "code",
   "source": [
    "M,N = map(int,input().split())\n",
    "\n",
    "for i in range (M,N+1):\n",
    "    if i == 1 :\n",
    "        continue\n",
    "\n",
    "    elif checkPrimeNumber(i) ==0:\n",
    "        print(i)"
   ],
   "id": "ecc82df99d3c6e87",
   "outputs": [
    {
     "name": "stdout",
     "output_type": "stream",
     "text": [
      "3\n",
      "5\n",
      "7\n",
      "11\n",
      "13\n"
     ]
    }
   ],
   "execution_count": 19
  }
 ],
 "metadata": {
  "kernelspec": {
   "display_name": "Python 3",
   "language": "python",
   "name": "python3"
  },
  "language_info": {
   "codemirror_mode": {
    "name": "ipython",
    "version": 2
   },
   "file_extension": ".py",
   "mimetype": "text/x-python",
   "name": "python",
   "nbconvert_exporter": "python",
   "pygments_lexer": "ipython2",
   "version": "2.7.6"
  }
 },
 "nbformat": 4,
 "nbformat_minor": 5
}
