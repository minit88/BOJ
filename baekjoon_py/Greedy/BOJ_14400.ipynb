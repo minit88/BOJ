{
  "nbformat": 4,
  "nbformat_minor": 0,
  "metadata": {
    "colab": {
      "provenance": []
    },
    "kernelspec": {
      "name": "python3",
      "display_name": "Python 3"
    },
    "language_info": {
      "name": "python"
    }
  },
  "cells": [
    {
      "cell_type": "code",
      "execution_count": 24,
      "metadata": {
        "colab": {
          "base_uri": "https://localhost:8080/"
        },
        "id": "ENCZDwiQ8dAp",
        "outputId": "7d38198e-0730-4aff-cbf3-398f5753f731"
      },
      "outputs": [
        {
          "output_type": "stream",
          "name": "stdout",
          "text": [
            "5\n",
            "2 2\n",
            "3 4\n",
            "5 6\n",
            "1 9\n",
            "-2 -8\n",
            "30\n"
          ]
        }
      ],
      "source": [
        "import math\n",
        "\n",
        "n=int(input())\n",
        "array_x= []\n",
        "array_y= []\n",
        "for i in range(n):\n",
        "  x,y = map(int,input().split())\n",
        "  array_x.append(x)\n",
        "  array_y.append(y)\n",
        "array_x.sort()\n",
        "array_y.sort()\n",
        "middle_x = array_x[n//2]\n",
        "middle_y = array_y[n//2]\n",
        "\n",
        "dist= 0\n",
        "for i in range(n):\n",
        "  dist += abs(middle_x-array_x[i])+abs(middle_y-array_y[i])\n",
        "print(dist)\n",
        "\n"
      ]
    },
    {
      "cell_type": "code",
      "source": [
        "print(middle_x,middle_y)\n",
        "1,2\n",
        "2,3\n",
        "\n",
        "array_x.sort()"
      ],
      "metadata": {
        "colab": {
          "base_uri": "https://localhost:8080/"
        },
        "id": "mw2W5cKyAdsG",
        "outputId": "3b4e4673-e26f-425b-a110-7ef45bdb273d"
      },
      "execution_count": 15,
      "outputs": [
        {
          "output_type": "stream",
          "name": "stdout",
          "text": [
            "1.8 2.6\n"
          ]
        }
      ]
    }
  ]
}