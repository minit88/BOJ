{
  "nbformat": 4,
  "nbformat_minor": 0,
  "metadata": {
    "colab": {
      "provenance": []
    },
    "kernelspec": {
      "name": "python3",
      "display_name": "Python 3"
    },
    "language_info": {
      "name": "python"
    }
  },
  "cells": [
    {
      "cell_type": "code",
      "execution_count": 19,
      "metadata": {
        "colab": {
          "base_uri": "https://localhost:8080/"
        },
        "id": "ouh0UIusQBZ-",
        "outputId": "21bed8f5-eef6-42ff-dc22-14895729f712"
      },
      "outputs": [
        {
          "output_type": "stream",
          "name": "stdout",
          "text": [
            "10\n",
            "100 9 77 65 39 27 45 1 80 495\n",
            "495 1\n",
            "495.5 9\n",
            "500.0 27\n",
            "513.5 39\n",
            "533.0 45\n",
            "555.5 65\n",
            "588.0 77\n",
            "626.5 80\n",
            "666.5 100\n",
            "716.5\n"
          ]
        }
      ],
      "source": [
        "n= int(input())\n",
        "array = list(map(int,input().split()))\n",
        "array.sort()\n",
        "while len(array)>1:\n",
        "  min = array.pop(0)\n",
        "  max = array.pop(-1)\n",
        "  array.append(max+min/2)\n",
        "print(array.pop())"
      ]
    }
  ]
}