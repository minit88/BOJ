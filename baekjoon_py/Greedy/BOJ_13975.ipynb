{
  "nbformat": 4,
  "nbformat_minor": 0,
  "metadata": {
    "colab": {
      "provenance": []
    },
    "kernelspec": {
      "name": "python3",
      "display_name": "Python 3"
    },
    "language_info": {
      "name": "python"
    }
  },
  "cells": [
    {
      "cell_type": "code",
      "execution_count": 9,
      "metadata": {
        "colab": {
          "base_uri": "https://localhost:8080/"
        },
        "id": "0bhLSkMa04CL",
        "outputId": "957b4b17-37aa-449a-9e08-0f2c81e77b0e"
      },
      "outputs": [
        {
          "output_type": "stream",
          "name": "stdout",
          "text": [
            "2\n",
            "4\n",
            "40 30 30 50\n",
            "300\n",
            "15\n",
            "1 21 3 4 5 35 5 4 3 5 98 21 14 17 32\n",
            "826\n"
          ]
        }
      ],
      "source": [
        "import heapq\n",
        "\n",
        "t = int(input())\n",
        "for _ in range(t):\n",
        "  n = int(input())\n",
        "  result = 0\n",
        "  heap = list(map(int,input().split()))\n",
        "  heapq.heapify(heap)\n",
        "  while len(heap)>1:\n",
        "    a= heapq.heappop(heap)\n",
        "    b=heapq.heappop(heap)\n",
        "    result+=a+b\n",
        "    heapq.heappush(heap,a+b) \n",
        "  print(result)\n"
      ]
    }
  ]
}