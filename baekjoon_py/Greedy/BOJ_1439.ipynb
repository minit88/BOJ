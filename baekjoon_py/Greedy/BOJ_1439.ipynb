{
  "nbformat": 4,
  "nbformat_minor": 0,
  "metadata": {
    "colab": {
      "provenance": []
    },
    "kernelspec": {
      "name": "python3",
      "display_name": "Python 3"
    },
    "language_info": {
      "name": "python"
    }
  },
  "cells": [
    {
      "cell_type": "code",
      "execution_count": 8,
      "metadata": {
        "colab": {
          "base_uri": "https://localhost:8080/"
        },
        "id": "FQGyBrkoWdD0",
        "outputId": "b2d9f89f-9e80-4928-81ac-4a3bd670e395"
      },
      "outputs": [
        {
          "output_type": "stream",
          "name": "stdout",
          "text": [
            "0001100\n",
            "1\n"
          ]
        }
      ],
      "source": [
        "array=list(map(str,input()))\n",
        "ones = 0\n",
        "zeros = 0\n",
        "privious = 's'\n",
        "for i in range(len(array)):\n",
        "  if privious!=array[i]:\n",
        "    if array[i]=='1':\n",
        "      ones+=1\n",
        "      privious = '1'\n",
        "    else:\n",
        "      zeros+=1\n",
        "      privious = '0'\n",
        "print(min(ones,zeros))\n",
        "\n",
        "  "
      ]
    }
  ]
}