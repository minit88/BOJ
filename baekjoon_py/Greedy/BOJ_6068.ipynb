{
  "nbformat": 4,
  "nbformat_minor": 0,
  "metadata": {
    "colab": {
      "provenance": []
    },
    "kernelspec": {
      "name": "python3",
      "display_name": "Python 3"
    },
    "language_info": {
      "name": "python"
    }
  },
  "cells": [
    {
      "cell_type": "code",
      "execution_count": 22,
      "metadata": {
        "colab": {
          "base_uri": "https://localhost:8080/"
        },
        "id": "JAe_IyTiIN4Q",
        "outputId": "5d9d124e-5e7c-48f7-992d-c2e4b6b63790"
      },
      "outputs": [
        {
          "output_type": "stream",
          "name": "stdout",
          "text": [
            "2\n",
            "1 1\n",
            "1 2\n",
            "0\n"
          ]
        }
      ],
      "source": [
        "n=int(input())\n",
        "schedules = []\n",
        "privious = int(1e9)\n",
        "result = 0\n",
        "for i in range(n):\n",
        "  schedules.append(list(map(int,input().split())))\n",
        "schedules.sort(key = lambda n: (-n[1]))\n",
        "for i in range(n):\n",
        "  if result ==-1 : # 안되는 경우가 나타났던 경우\n",
        "    break\n",
        "  workTime , deadLine = schedules[i]\n",
        "  if workTime>deadLine : # 일하는 시간이 마감시간 보다 클 경우\n",
        "    result =-1\n",
        "    break\n",
        "  startTime = abs(workTime-deadLine)\n",
        "  pull = 0\n",
        "  while True:\n",
        "    if  (startTime-pull)<0: # 시작 시간이 0시 보다 작을 경우 -1\n",
        "      result= -1\n",
        "      break\n",
        "    else:\n",
        "      if (deadLine-pull)<=privious: # 마감 시간이 이전 시작시간 보다 작거나 같을 경우 while break\n",
        "        privious = startTime-pull\n",
        "        break\n",
        "    pull+=1\n",
        "  \n",
        "if result==-1 :\n",
        "  print(-1)\n",
        "else:\n",
        "  print(privious)\n",
        "\n",
        "\n"
      ]
    },
    {
      "cell_type": "code",
      "source": [
        "schedules"
      ],
      "metadata": {
        "colab": {
          "base_uri": "https://localhost:8080/"
        },
        "id": "Wc7myqQkNqYv",
        "outputId": "709858b7-2808-45df-c14e-73b519258396"
      },
      "execution_count": 5,
      "outputs": [
        {
          "output_type": "execute_result",
          "data": {
            "text/plain": [
              "[[5, 20], [1, 16], [8, 14], [3, 5]]"
            ]
          },
          "metadata": {},
          "execution_count": 5
        }
      ]
    }
  ]
}