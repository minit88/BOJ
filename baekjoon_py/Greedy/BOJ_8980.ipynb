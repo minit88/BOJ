{
  "nbformat": 4,
  "nbformat_minor": 0,
  "metadata": {
    "colab": {
      "provenance": [],
      "authorship_tag": "ABX9TyOXZcTtDMvPJwU9YmdyIWh7"
    },
    "kernelspec": {
      "name": "python3",
      "display_name": "Python 3"
    },
    "language_info": {
      "name": "python"
    }
  },
  "cells": [
    {
      "cell_type": "code",
      "execution_count": 9,
      "metadata": {
        "colab": {
          "base_uri": "https://localhost:8080/"
        },
        "id": "CAQSvrVvu0AY",
        "outputId": "b4fc1a87-a5b6-435c-fb33-e835325959d1"
      },
      "outputs": [
        {
          "output_type": "stream",
          "name": "stdout",
          "text": [
            "6 60\n",
            "5\n",
            "1 2 30\n",
            "2 5 70\n",
            "5 6 60\n",
            "3 4 40\n",
            "1 6 40\n",
            "130\n"
          ]
        }
      ],
      "source": [
        "# 실패답안\n",
        "\n",
        "from collections import deque\n",
        "\n",
        "n,C = map(int,input().split())\n",
        "m=int(input())\n",
        "\n",
        "table = [] # 0 인덱스는 안씀\n",
        "truck = deque(list())\n",
        "\n",
        "\n",
        "for i in range(m):\n",
        "  a,b,c = map(int,input().split())\n",
        "  table.append((a,b,c))\n",
        "\n",
        "table.sort(key = lambda x: (x[0],x[1],x[2]))\n",
        "q=deque(table)\n",
        "answer = 0\n",
        "\n",
        "for i in range(1,n+1):\n",
        "\n",
        "  while truck: # 내릴 물건이 있을 경우\n",
        "    b,c = deque.popleft(truck)\n",
        "\n",
        "    if i==b :\n",
        "      C+=c\n",
        "\n",
        "    elif i!=a:\n",
        "      truck.appendleft([b,c])\n",
        "      break\n",
        "\n",
        "  while q: # 싣을 물건이 있을 경우\n",
        "    a,b,c = deque.popleft(q)\n",
        "\n",
        "    if i==a and C-c >=0:\n",
        "      truck.appendleft([b,c])\n",
        "      answer+=c\n",
        "      C-=c\n",
        "\n",
        "    elif i==a and C-c<0 :\n",
        "      break\n",
        "\n",
        "    elif i!=a :\n",
        "      q.appendleft([a,b,c])\n",
        "      break\n",
        "\n",
        "print(answer)\n"
      ]
    },
    {
      "cell_type": "markdown",
      "source": [
        "# **정답답안**"
      ],
      "metadata": {
        "id": "ClCmeE-LqkMN"
      }
    },
    {
      "cell_type": "code",
      "source": [
        "N,C = map(int,input().split())\n",
        "M = int(input())\n",
        "\n",
        "# box_info[i]= [보낸 마을 번호, 받는 마을 번호, 박스수]\n",
        "box_info = []\n",
        "# truck_capa[i] = 마을 i에서 트럭의 수용 가능한 박스 수\n",
        "truck_capa = [C]*(N+1)\n",
        "\n",
        "for _ in range(M):\n",
        "  box_info.append(list(map(int,input().split())))\n",
        "\n",
        "# 받는 마을 번호가 빠른 순으로 박스 정보를 정렬\n",
        "box_info.sort(key= lambda x:(x[1],x[0]))\n",
        "\n",
        "# 배송한 박스 수\n",
        "b_cnt = 0\n",
        "for i in range(M):\n",
        "  # 보낸 마을에서 받는 마을에 도착할 때까지 트럭을 운행하면서 배송할 박스 수\n",
        "  # 가능한 작은 박스 수를 배송해야 하기 떄문에 최대인 C로 초기화\n",
        "  min_box = C\n",
        "\n",
        "  # 보낸 마을부터 받는 마을의 이전 마을까지 트럭의 수용가능한 박스 수를 구한다\n",
        "  # truck_capa[보낸 마을]~truck_capa[받는 마을-1] 중 가장 작은 값을 min_box로 선택해야 트럭 용량을 초과하지 않는다\n",
        "  for town in range(box_info[i][0],box_info[i][1]):\n",
        "    if truck_capa[town]<min_box:\n",
        "      min_box=truck_capa[town]\n",
        "\n",
        "  # 현재 박스 정보의 박스 수 <= min_box인 경우 해당 박스 수만큼 트럭에 실는다\n",
        "  # 현재 박스 정보의 박스 수 > min_box인 경우 해당 박스 수의 일부만(min_box만큼) 트럭에 실는다\n",
        "  min_box = min(min_box,box_info[i][2])\n",
        "  b_cnt+=min_box\n",
        "\n",
        "  # 보낸 마을부터 받는 마을의 이전 마을까지 운송해야하므로 트럭 수용 가능 수를 min_box만큼 빼준다\n",
        "  for town in range(box_info[i][0],box_info[i][1]):\n",
        "    truck_capa[town]-=min_box\n",
        "print(b_cnt)\n"
      ],
      "metadata": {
        "colab": {
          "base_uri": "https://localhost:8080/"
        },
        "id": "jd2YN4IpBKhK",
        "outputId": "627daba7-4db7-47b9-a8b1-3ff36e747502"
      },
      "execution_count": 15,
      "outputs": [
        {
          "output_type": "stream",
          "name": "stdout",
          "text": [
            "4 40\n",
            "6\n",
            "3 4 20\n",
            "1 2 10\n",
            "1 3 20\n",
            "1 4 30\n",
            "2 3 10\n",
            "2 4 20\n",
            "10\n",
            "20\n",
            "10\n",
            "10\n",
            "0\n",
            "20\n"
          ]
        }
      ]
    }
  ]
}