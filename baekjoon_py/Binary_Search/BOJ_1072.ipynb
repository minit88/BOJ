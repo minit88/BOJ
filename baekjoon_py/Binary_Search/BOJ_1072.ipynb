{
  "nbformat": 4,
  "nbformat_minor": 0,
  "metadata": {
    "colab": {
      "provenance": []
    },
    "kernelspec": {
      "name": "python3",
      "display_name": "Python 3"
    },
    "language_info": {
      "name": "python"
    }
  },
  "cells": [
    {
      "cell_type": "code",
      "execution_count": 8,
      "metadata": {
        "colab": {
          "base_uri": "https://localhost:8080/"
        },
        "id": "KpcWlP7bFG1p",
        "outputId": "4b6c0f4c-abdf-4cdf-d4d3-1d28ad46b4af"
      },
      "outputs": [
        {
          "output_type": "stream",
          "name": "stdout",
          "text": [
            "47 47\n",
            "-1\n"
          ]
        }
      ],
      "source": [
        "n,m =map(int,input().split())\n",
        "\n",
        "s,e = 1,n\n",
        "ans = 1000000000000\n",
        "origin_vic= m*100//n\n",
        "\n",
        "while s<=e:\n",
        "  mid = (s+e)//2\n",
        "  vic = (m+mid)*100//(n+mid)\n",
        "\n",
        "  if vic>origin_vic :\n",
        "    ans = min(ans,mid)\n",
        "    e=mid-1\n",
        "  else:\n",
        "    s=mid+1\n",
        "if ans == 1000000000000:\n",
        "  print(-1)\n",
        "else:\n",
        "  print(ans)\n",
        "\n"
      ]
    }
  ]
}