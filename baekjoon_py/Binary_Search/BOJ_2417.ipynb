{
 "cells": [
  {
   "cell_type": "code",
   "execution_count": 13,
   "metadata": {},
   "outputs": [
    {
     "name": "stdout",
     "output_type": "stream",
     "text": [
      "3\n"
     ]
    }
   ],
   "source": [
    "n=int(input())\n",
    "\n",
    "s=0\n",
    "e=n\n",
    "while s<=e:\n",
    "    mid = (s+e)//2\n",
    "    if mid **2<n:\n",
    "        s=mid+1\n",
    "    else:\n",
    "        e=mid-1\n",
    "print(s)"
   ]
  }
 ],
 "metadata": {
  "kernelspec": {
   "display_name": "base",
   "language": "python",
   "name": "python3"
  },
  "language_info": {
   "codemirror_mode": {
    "name": "ipython",
    "version": 3
   },
   "file_extension": ".py",
   "mimetype": "text/x-python",
   "name": "python",
   "nbconvert_exporter": "python",
   "pygments_lexer": "ipython3",
   "version": "3.9.13"
  },
  "orig_nbformat": 4,
  "vscode": {
   "interpreter": {
    "hash": "fcb0e32c293e76b454f52f6bc2d6dc50a42fb944ae627ecf0e5611e9705c2e6c"
   }
  }
 },
 "nbformat": 4,
 "nbformat_minor": 2
}
