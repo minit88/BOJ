{
  "nbformat": 4,
  "nbformat_minor": 0,
  "metadata": {
    "colab": {
      "provenance": []
    },
    "kernelspec": {
      "name": "python3",
      "display_name": "Python 3"
    },
    "language_info": {
      "name": "python"
    }
  },
  "cells": [
    {
      "cell_type": "code",
      "execution_count": 14,
      "metadata": {
        "colab": {
          "base_uri": "https://localhost:8080/"
        },
        "id": "Zq1YUx76EUIH",
        "outputId": "3974017a-57c6-4f56-d730-854daa685900"
      },
      "outputs": [
        {
          "output_type": "stream",
          "name": "stdout",
          "text": [
            "10 9\n",
            "4 1 2 3 4\n",
            "2 1 5\n",
            "2 2 6\n",
            "1 7\n",
            "1 8\n",
            "2 7 8\n",
            "1 9\n",
            "1 10\n",
            "2 3 10\n",
            "1 4\n",
            "4\n"
          ]
        }
      ],
      "source": [
        "from collections import deque\n",
        "\n",
        "#joinPeople = [[],[1,5],[2],[3],[4,5]]\n",
        "#partyList= [[1],[2],[3],[4],[4,1]]\n",
        "\n",
        "def solve():\n",
        "  result =0\n",
        "  n,m = map(int,input().split()) # 사람 수 , 파티 수\n",
        "\n",
        "  knownPeople = list(map(int,input().split())) # 비밀을 아는 자들\n",
        "\n",
        "  joinPeople = [[] for _ in range(n+1)] # n번째 인원의 참가한 파티 정보\n",
        "  partyList = [[]] # n 번째 파티의 참석자 명단\n",
        "\n",
        "  \n",
        "\n",
        "\n",
        "  # m개의 파티 입력을 받음\n",
        "  for i in range(1,m+1): \n",
        "    array = list(map(int,input().split()))\n",
        "    partyList.append(array[1:])\n",
        "\n",
        "    # 인원별 참석한 파티 정보를 추가\n",
        "    for peopleNum in array[1:] :\n",
        "      joinPeople[peopleNum].append(i) \n",
        "\n",
        "  if len(knownPeople) == 1: # 비밀을 아는 자가 없을 경우  \n",
        "    return m\n",
        "\n",
        "  # 진실을 아는 자들을 큐에 추가\n",
        "  q=deque(knownPeople[1:])\n",
        "\n",
        "\n",
        "\n",
        "  while q:\n",
        "    now = q.popleft()\n",
        "    \n",
        "    if joinPeople[now]==False:\n",
        "      continue\n",
        "\n",
        "    # 현재 인원의 참가한 파티 정보를 불러옴\n",
        "    for i in joinPeople[now]:\n",
        "\n",
        "      # 불러온 파티 내의 인원을 불러옴\n",
        "      for j in partyList[i] : \n",
        "\n",
        "        # 참가한 파티에 자신이 속한 경우 넘김\n",
        "        if j==now : \n",
        "          continue\n",
        "        q.append(j)\n",
        "\n",
        "      # 진실을 알게된 파티는 비움  \n",
        "      partyList[i]=[]\n",
        "\n",
        "  for i in range(1,m+1):\n",
        "\n",
        "    # 진실을 모르는 자들이 없을 경우에\n",
        "    if len(partyList[i]) != 0:\n",
        "      result+=1\n",
        "\n",
        "  return result\n",
        "\n",
        "print(solve())\n",
        "\n",
        "    \n",
        "\n",
        "  "
      ]
    }
  ]
}