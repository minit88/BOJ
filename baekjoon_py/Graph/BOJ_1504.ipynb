{
 "cells": [
  {
   "cell_type": "code",
   "id": "initial_id",
   "metadata": {
    "collapsed": true
   },
   "source": [
    "import heapq\n",
    "\n",
    "n,m = map(int,input().split())\n",
    "\n",
    "graph = [[] for _ in range(n+1)]\n",
    "\n",
    "for i in range(m):\n",
    "    a,b,c = map(int,input().split())\n",
    "    graph[a].append((b,c))\n",
    "    graph[b].append((a,c))\n",
    "    \n",
    "v1,v2 = map(int,input().split())\n",
    "INF = float('inf')\n",
    "\n",
    "\n",
    "def dijkstra(start,end):\n",
    "    q=[]\n",
    "    distance = [INF]*(n+1)\n",
    "    \n",
    "    heapq.heappush(q,(0,start))\n",
    "    distance[start]=0\n",
    "    \n",
    "    while q:\n",
    "        dist, now = heapq.heappop(q)\n",
    "        if dist > distance[now]:\n",
    "            continue\n",
    "        \n",
    "        # 현재 노드에서 연결된 간선 정보 확인\n",
    "        for i in graph[now]:\n",
    "            cost = dist + i[1]\n",
    "            \n",
    "            # 기존 경로 보다 최소 거리일 경우\n",
    "            if cost < distance[i[0]]:\n",
    "                distance[i[0]]=cost\n",
    "                \n",
    "                # (거리, 다음 노드)를 힙큐에 등록\n",
    "                heapq.heappush(q,(cost,i[0]))\n",
    "                \n",
    "    return distance[end]\n",
    "\n",
    "d1 = dijkstra(1,v1) \n",
    "d2 = dijkstra(1,v2)\n",
    "d3 = dijkstra(v1,v2)\n",
    "d4= dijkstra(v2,v1)\n",
    "d5= dijkstra(v1,n)\n",
    "d6 = dijkstra(v2,n)\n",
    "\n",
    "result = min(d1+d3+d6,d2+d4+d5)\n",
    "if result==INF:\n",
    "    print(-1)\n",
    "else:\n",
    "    print(result)\n",
    "                \n",
    "                \n",
    "\n",
    "    \n",
    "    "
   ],
   "outputs": [],
   "execution_count": null
  },
  {
   "metadata": {},
   "cell_type": "code",
   "source": [
    "# s -> v1 -> v2 -> e \n",
    "# s -> v2 -> v1 -> e\n",
    "\n",
    "# 이 둘의 최소값을 구해야함\n",
    "\n",
    "# s -> v1 = d1 , s -> v2 = d2\n",
    "# v1 -> v2 = d3 , v2 -> v1 = d4\n",
    "# v2 -> e = d5, v1 -> e = d6\n",
    "\n",
    "# min(d1+d3+d4 , d2+d3+d5)"
   ],
   "id": "2039caae4ca79be8",
   "outputs": [],
   "execution_count": null
  }
 ],
 "metadata": {
  "kernelspec": {
   "display_name": "Python 3",
   "language": "python",
   "name": "python3"
  },
  "language_info": {
   "codemirror_mode": {
    "name": "ipython",
    "version": 2
   },
   "file_extension": ".py",
   "mimetype": "text/x-python",
   "name": "python",
   "nbconvert_exporter": "python",
   "pygments_lexer": "ipython2",
   "version": "2.7.6"
  }
 },
 "nbformat": 4,
 "nbformat_minor": 5
}
