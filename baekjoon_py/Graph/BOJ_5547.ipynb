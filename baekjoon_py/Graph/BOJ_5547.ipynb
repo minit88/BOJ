{
  "nbformat": 4,
  "nbformat_minor": 0,
  "metadata": {
    "colab": {
      "provenance": [],
      "authorship_tag": "ABX9TyMuKdgF1pMZa7kB5OUJCQ6Y"
    },
    "kernelspec": {
      "name": "python3",
      "display_name": "Python 3"
    },
    "language_info": {
      "name": "python"
    }
  },
  "cells": [
    {
      "cell_type": "code",
      "execution_count": null,
      "metadata": {
        "id": "-eSd2eLPKJH5"
      },
      "outputs": [],
      "source": [
        "# 20 6 28 = 64\n",
        "# BFS\n",
        "# 0일때 탐색해서 1을 만나면( 한 면을 만나면) count +=1\n"
      ]
    },
    {
      "cell_type": "code",
      "source": [
        "from collections import deque\n",
        "\n",
        "range_x,range_y = map(int,input().split())\n",
        "\n",
        "array = [[0 for _ in range(range_x+2)] for _ in range(range_y+2)] # +2씩 해준다.\n",
        "\n",
        "\n",
        "dy = [0, 1, 1, 0, -1, -1]\n",
        "dx = [[1, 0, -1, -1, -1, 0], [1, 1, 0, -1, 0, 1]] # 0은 홀수, 1은 짝수\n",
        "\n",
        "\n",
        "\n",
        "for i in range(1,range_y+1):\n",
        "  array[i][1:range_x+1]=map(int,input().split())\n",
        "\n",
        "\n",
        "def bfs(x,y):\n",
        "  visited_array = [[False for _ in range(range_x+2)] for _ in range(range_y+2)]\n",
        "  q = deque() # x , y \n",
        "  q.append((x,y))\n",
        "  visited_array[y][x]=True # 방문처리\n",
        "  count = 0\n",
        "\n",
        "  while q:\n",
        "    x, y = q.popleft()\n",
        "    for i in range(6):\n",
        "      nx = x+ dx[y%2][i]\n",
        "      ny = y+ dy[i]\n",
        "\n",
        "      if 0<=nx<range_x+2 and 0<=ny<range_y+2 : # 범위 내에 있을 경우\n",
        "        if array[ny][nx] == 0 and visited_array[ny][nx] == False : \n",
        "          visited_array[ny][nx]=True # 방문처리\n",
        "          q.append((nx,ny))\n",
        "\n",
        "        elif array[ny][nx]==1: # 건물을 만나면\n",
        "          count+=1\n",
        "          \n",
        "\n",
        "\n",
        "\n",
        "\n",
        "  return count # 갯수만큼 길이 리턴\n",
        "\n",
        "\n",
        "print(bfs(0,0))\n"
      ],
      "metadata": {
        "colab": {
          "base_uri": "https://localhost:8080/"
        },
        "id": "FAVG9UNgL4LE",
        "outputId": "cd1baabe-34fe-49df-9a37-230da5ac872f"
      },
      "execution_count": 114,
      "outputs": [
        {
          "output_type": "stream",
          "name": "stdout",
          "text": [
            "2 1\n",
            "1 1\n",
            "10\n"
          ]
        }
      ]
    }
  ]
}