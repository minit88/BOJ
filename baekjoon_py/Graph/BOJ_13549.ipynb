{
  "nbformat": 4,
  "nbformat_minor": 0,
  "metadata": {
    "colab": {
      "provenance": [],
      "authorship_tag": "ABX9TyO1cAz7ucqseq2j+2BMPCKr"
    },
    "kernelspec": {
      "name": "python3",
      "display_name": "Python 3"
    },
    "language_info": {
      "name": "python"
    }
  },
  "cells": [
    {
      "cell_type": "code",
      "execution_count": 12,
      "metadata": {
        "colab": {
          "base_uri": "https://localhost:8080/"
        },
        "id": "idfpaK_jtRuO",
        "outputId": "de46d2bd-127c-4576-a0b8-6ceac6d0e58b"
      },
      "outputs": [
        {
          "output_type": "stream",
          "name": "stdout",
          "text": [
            "5 17\n",
            "2\n"
          ]
        }
      ],
      "source": [
        "from collections import deque\n",
        "\n",
        "\n",
        "\n",
        "\n",
        "def bfs():\n",
        "  dist = [-1]*100001\n",
        "  dist[N]=0 # 수빈이 위치 초기값 0\n",
        "  q = deque([N])\n",
        "  while q:\n",
        "    now = q.popleft()\n",
        "\n",
        "    if now == K :\n",
        "      return dist[now]\n",
        "\n",
        "    for i in (now+1,now-1,now*2):\n",
        "      if 0<=i<=100000 and dist[i] == -1:\n",
        "        if i==now*2:\n",
        "          dist[i]=dist[now] \n",
        "          q.appendleft(i) # 순간이동 먼저 탐색\n",
        "\n",
        "        else :\n",
        "          dist[i]=dist[now]+1\n",
        "          q.append(i)\n",
        "\n",
        "N,K = map(int,input().split()) # 수빈 N 동생 K\n",
        "print(bfs())\n"
      ]
    }
  ]
}