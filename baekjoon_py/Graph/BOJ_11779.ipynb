{
 "cells": [
  {
   "cell_type": "code",
   "id": "initial_id",
   "metadata": {
    "collapsed": true,
    "ExecuteTime": {
     "end_time": "2024-05-02T05:01:10.041102Z",
     "start_time": "2024-05-02T05:00:57.372635Z"
    }
   },
   "source": [
    "import heapq\n",
    "\n",
    "INF = float('inf')\n",
    "    \n",
    "n = int(input())\n",
    "m= int(input())\n",
    "\n",
    "graph = [[] for _ in range(n+1)]\n",
    "for j in range(m):\n",
    "    a,b,c = map(int,input().split())\n",
    "    graph[a].append((b,c)) # next node, cost\n",
    "    \n",
    "startingPoint,destination = map(int,input().split())\n",
    "\n",
    "def dijkstra(start,end):\n",
    "    q=[]\n",
    "    heapq.heappush(q,(start,0)) # current node, current cost\n",
    "    \n",
    "    # 해당 노드까지의 비용\n",
    "    costNode = [INF]*(n+1)\n",
    "    costNode[start]=0\n",
    "    \n",
    "    # 이전에 방문했던 노드 기록\n",
    "    previousNode = [0]*(n+1)\n",
    "    \n",
    "    while q:\n",
    "        now , cost = heapq.heappop(q)\n",
    "\n",
    "        if cost > costNode[now] :\n",
    "            continue\n",
    "            \n",
    "        for i in graph[now] : # next node, cost\n",
    "            currentCost = cost + i[1]\n",
    "            \n",
    "            if currentCost < costNode[i[0]] :\n",
    "                costNode[i[0]]= currentCost\n",
    "                heapq.heappush(q,(i[0],currentCost))\n",
    "                previousNode[i[0]]= now\n",
    "                \n",
    "    # 도착 지점부터 시작 지점까지 방문한 노드 기록\n",
    "    arrival = True\n",
    "    nowNode = end\n",
    "    finalRoot= [end]\n",
    "    previousNode[start] = -1\n",
    "    \n",
    "    # 시작 노드를 만나기 전 까지 반복\n",
    "    while arrival:\n",
    "        nowNode = previousNode[nowNode]\n",
    "        \n",
    "        # 시작 노드는 이전 노드가 없으므로 -1\n",
    "        if nowNode == -1 :\n",
    "            break\n",
    "        finalRoot.append(nowNode)\n",
    "        \n",
    "    finalRoot.reverse()\n",
    "       \n",
    "    return costNode[end],finalRoot\n",
    "\n",
    "finalCost,finalRoot = dijkstra(startingPoint,destination)\n",
    "\n",
    "print(finalCost)\n",
    "print(len(finalRoot))\n",
    "rootString = ' '.join(map(str,finalRoot))\n",
    "print(rootString)\n",
    "        \n"
   ],
   "outputs": [
    {
     "name": "stdout",
     "output_type": "stream",
     "text": [
      "4\n",
      "3\n",
      "1 3 5\n"
     ]
    }
   ],
   "execution_count": 30
  }
 ],
 "metadata": {
  "kernelspec": {
   "display_name": "Python 3",
   "language": "python",
   "name": "python3"
  },
  "language_info": {
   "codemirror_mode": {
    "name": "ipython",
    "version": 2
   },
   "file_extension": ".py",
   "mimetype": "text/x-python",
   "name": "python",
   "nbconvert_exporter": "python",
   "pygments_lexer": "ipython2",
   "version": "2.7.6"
  }
 },
 "nbformat": 4,
 "nbformat_minor": 5
}
