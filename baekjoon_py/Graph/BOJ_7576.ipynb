{
  "nbformat": 4,
  "nbformat_minor": 0,
  "metadata": {
    "colab": {
      "provenance": [],
      "authorship_tag": "ABX9TyOfe7M1gpBInWcH0l3LLI9Z",
      "include_colab_link": true
    },
    "kernelspec": {
      "name": "python3",
      "display_name": "Python 3"
    },
    "language_info": {
      "name": "python"
    }
  },
  "cells": [
    {
      "cell_type": "markdown",
      "metadata": {
        "id": "view-in-github",
        "colab_type": "text"
      },
      "source": [
        "<a href=\"https://colab.research.google.com/github/minit88/baekjoon_py/blob/main/Graph/BOJ_7576.ipynb\" target=\"_parent\"><img src=\"https://colab.research.google.com/assets/colab-badge.svg\" alt=\"Open In Colab\"/></a>"
      ]
    },
    {
      "cell_type": "code",
      "execution_count": 6,
      "metadata": {
        "colab": {
          "base_uri": "https://localhost:8080/"
        },
        "id": "Tj8lrJ7PXJu_",
        "outputId": "e0df84f1-a12c-4d56-fa6b-be03124a93e1"
      },
      "outputs": [
        {
          "output_type": "stream",
          "name": "stdout",
          "text": [
            "6 4\n",
            "0 0 0 0 0 0\n",
            "0 0 0 0 0 0\n",
            "0 0 0 0 0 0\n",
            "0 0 0 0 0 1\n",
            "8\n"
          ]
        }
      ],
      "source": [
        "from collections import deque\n",
        "\n",
        "n,m = map(int,input().split())\n",
        "\n",
        "array = []\n",
        "\n",
        "\n",
        "\n",
        "for i in range(m):\n",
        "  array.append(list(map(int,input().split())))\n",
        "\n",
        "def bfs():\n",
        "\n",
        "  q=deque()\n",
        "  check=0\n",
        "  for i in range(m):\n",
        "    for j in range(n):\n",
        "      if array[i][j]==1 :\n",
        "        q.append((i,j,0))\n",
        "      \n",
        "\n",
        "  dx= [-1,0,1,0]\n",
        "  dy= [0,1,0,-1]\n",
        "\n",
        "  result =-1\n",
        "  while q:\n",
        "    a=False\n",
        "    x,y,nc = q.popleft()\n",
        "    result = max(result,nc)\n",
        "    for i in range(4):\n",
        "      nx = x+dx[i]\n",
        "      ny = y+dy[i]\n",
        "      if 0<=nx<m and 0<=ny<n :\n",
        "        if array[nx][ny]==0:\n",
        "          array[nx][ny]=1\n",
        "          q.append((nx,ny,nc+1))\n",
        "\n",
        "\n",
        "  for i in range(m):\n",
        "    for j in range(n):\n",
        "      if array[i][j]==0  :\n",
        "        return -1\n",
        "  return result\n",
        "\n",
        "print(bfs())\n",
        "\n",
        "\n"
      ]
    }
  ]
}