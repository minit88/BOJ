{
 "cells": [
  {
   "cell_type": "code",
   "id": "initial_id",
   "metadata": {
    "collapsed": true,
    "ExecuteTime": {
     "end_time": "2024-05-05T08:19:28.314297Z",
     "start_time": "2024-05-05T08:19:22.626146Z"
    }
   },
   "source": [
    "#import sys\n",
    "#input = sys.stdin.readline\n",
    "from collections import deque\n",
    "\n",
    "\n",
    "n,m,v = map(int,input().split())\n",
    "graph = [[] for _ in range(n+1)]\n",
    "\n",
    "def dfs(start) :\n",
    "    # -1 일 경우 방문 x\n",
    "    visitedRoot = []\n",
    "    visitedStatus = [-1]*(n+1)\n",
    "    q = deque([start])\n",
    "    \n",
    "    while q:\n",
    "        nowNode = q.popleft()\n",
    "        \n",
    "        # 방문했던 적이 없을 경우\n",
    "        if visitedStatus[nowNode]== -1 :\n",
    "            visitedRoot.append(nowNode)\n",
    "            visitedStatus[nowNode]=0\n",
    "            \n",
    "            temporaryDeque=deque([])\n",
    "            for nextNode in graph[nowNode]:\n",
    "                temporaryDeque.append(nextNode)\n",
    "            q = temporaryDeque+q\n",
    "            \n",
    "        elif visitedStatus[nowNode]==0 :\n",
    "            continue\n",
    "            \n",
    "    return visitedRoot\n",
    "\n",
    "def bfs(start) :\n",
    "    visitedRoot = []\n",
    "    visitedStatus = [-1]*(n+1)\n",
    "    q=deque([start])\n",
    "\n",
    "    while q:\n",
    "        nowNode = q.popleft()\n",
    "        \n",
    "        if visitedStatus[nowNode]==-1 :\n",
    "            visitedRoot.append(nowNode)\n",
    "            visitedStatus[nowNode]=0\n",
    "            \n",
    "            for nextNode in graph[nowNode]:\n",
    "                q.append(nextNode)\n",
    "                \n",
    "        elif visitedStatus[nowNode]==0 :\n",
    "            continue\n",
    "            \n",
    "    return visitedRoot\n",
    "\n",
    "for i in range(m):\n",
    "    a,b = map(int,input().split())\n",
    "    graph[a].append(b)\n",
    "    graph[b].append(a)\n",
    "\n",
    "# 여러 개인 경우에는 정점 번호가 작은 것을 먼저 방문\n",
    "for i in range(1,n+1):\n",
    "    graph[i].sort()\n",
    "    \n",
    "dfs_result = ' '.join(map(str,dfs(v)))\n",
    "bfs_result = ' '.join(map(str,bfs(v)))\n",
    "\n",
    "print(dfs_result)\n",
    "print(bfs_result)\n",
    "    "
   ],
   "outputs": [
    {
     "name": "stdout",
     "output_type": "stream",
     "text": [
      "1 2 4 3\n",
      "1 2 3 4\n"
     ]
    }
   ],
   "execution_count": 17
  }
 ],
 "metadata": {
  "kernelspec": {
   "display_name": "Python 3",
   "language": "python",
   "name": "python3"
  },
  "language_info": {
   "codemirror_mode": {
    "name": "ipython",
    "version": 2
   },
   "file_extension": ".py",
   "mimetype": "text/x-python",
   "name": "python",
   "nbconvert_exporter": "python",
   "pygments_lexer": "ipython2",
   "version": "2.7.6"
  }
 },
 "nbformat": 4,
 "nbformat_minor": 5
}
