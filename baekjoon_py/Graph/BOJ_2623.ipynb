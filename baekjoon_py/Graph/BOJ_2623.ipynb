{
  "nbformat": 4,
  "nbformat_minor": 0,
  "metadata": {
    "colab": {
      "provenance": [],
      "authorship_tag": "ABX9TyOMkJDZGgBQxz3PhBMueKzA"
    },
    "kernelspec": {
      "name": "python3",
      "display_name": "Python 3"
    },
    "language_info": {
      "name": "python"
    }
  },
  "cells": [
    {
      "cell_type": "code",
      "execution_count": 10,
      "metadata": {
        "colab": {
          "base_uri": "https://localhost:8080/"
        },
        "id": "n9fXlLzRn66n",
        "outputId": "ebac2634-c3a8-4c0a-87a0-4b0a8136b293"
      },
      "outputs": [
        {
          "output_type": "stream",
          "name": "stdout",
          "text": [
            "6 3\n",
            "3 1 4 3\n",
            "4 6 2 5 4\n",
            "2 3 2\n",
            "0\n"
          ]
        }
      ],
      "source": [
        "from collections import deque\n",
        "\n",
        "n,m = map(int,input().split())\n",
        "\n",
        "table=[]\n",
        "graph = [[] for i in range(n+1)]\n",
        "indegree = [0]*(n+1)\n",
        "\n",
        "for i in range(m):\n",
        "  a= list(map(int,input().split()))\n",
        "  table.append(a)\n",
        "\n",
        "if n>=2:\n",
        "  for i in table:\n",
        "    for j in range(2,len(i)):\n",
        "      a,b = i[j-1],i[j]\n",
        "      indegree[b]+=1\n",
        "      graph[a].append(b)\n",
        "\n",
        "\n",
        "      \n",
        "\n",
        "\n",
        "# 위상정렬 함수\n",
        "def topology_sort():\n",
        "  result = [] # 위상정렬 결과를 담을 리스트\n",
        "  q=deque([])\n",
        "\n",
        "  # 진입차수가 0인 노드를 찾아 큐에 삽입\n",
        "  for i in range(1,n+1):\n",
        "    if indegree[i]==0:\n",
        "      q.append(i)\n",
        "\n",
        "  while q:\n",
        "    now = q.popleft()\n",
        "    result.append(now)\n",
        "    for i in graph[now]:\n",
        "      indegree[i]-=1\n",
        "      if indegree[i]==0:\n",
        "        q.append(i)\n",
        "\n",
        "  if len(result)==n:\n",
        "    for i in result:\n",
        "      print(i)\n",
        "  else:\n",
        "    print(0)\n",
        "\n",
        "if n>=2:\n",
        "  topology_sort()\n",
        "\n",
        "elif n==1:\n",
        "  print(table[0][1])\n",
        "\n"
      ]
    }
  ]
}