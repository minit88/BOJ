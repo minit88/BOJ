{
  "nbformat": 4,
  "nbformat_minor": 0,
  "metadata": {
    "colab": {
      "provenance": []
    },
    "kernelspec": {
      "name": "python3",
      "display_name": "Python 3"
    },
    "language_info": {
      "name": "python"
    }
  },
  "cells": [
    {
      "cell_type": "code",
      "execution_count": 13,
      "metadata": {
        "colab": {
          "base_uri": "https://localhost:8080/"
        },
        "id": "MKWtiVbzUri6",
        "outputId": "b2cbe97c-001f-4b6f-ab67-1426b2a155a4"
      },
      "outputs": [
        {
          "output_type": "stream",
          "name": "stdout",
          "text": [
            "4 5\n",
            "1 2\n",
            "1 3\n",
            "2 3\n",
            "2 4\n",
            "3 4\n",
            "1 4\n",
            "2\n"
          ]
        }
      ],
      "source": [
        "from collections import deque\n",
        "n,m = map(int,input().split()) # 정점의 개수, 정점 사이를 잇는 도로의 개수\n",
        "\n",
        "graph = [[] for _ in range(n+1) ] \n",
        "\n",
        "\n",
        "\n",
        "# 간선 정보를 입력받음\n",
        "for i in range(m):\n",
        "  a,b = map(int,input().split())\n",
        "\n",
        "  # 양방향 입력\n",
        "  graph[a].append(b)\n",
        "  graph[b].append(a)\n",
        "\n",
        "for idx in range(1,n+1):\n",
        "  graph[idx].sort()\n",
        "\n",
        "s,e = map(int,input().split()) \n",
        "\n",
        "def solv():\n",
        "    visited = [-1]*(n+1)\n",
        "    visited[s] = 0\n",
        "    path = bfs(s,e,visited,0)\n",
        "\n",
        "    visited = [-1]*(n+1)\n",
        "    for idx in path:\n",
        "        visited[idx] = 1\n",
        "    cnt = bfs(e,s,visited,len(path))\n",
        "    print(cnt)\n",
        "\n",
        "def bfs(start,end,visited,start_cnt):\n",
        "  q=deque([(start,start_cnt)])\n",
        "  while q:\n",
        "    now,cnt = q.pop()\n",
        "    if now==end:\n",
        "      if start_cnt == 0:\n",
        "        break\n",
        "      else:\n",
        "        return cnt\n",
        "    for nxt in graph[now]:\n",
        "      if visited[nxt]==-1:\n",
        "        visited[nxt]=now\n",
        "        q.appendleft((nxt,cnt+1))\n",
        "\n",
        "  path = [end]\n",
        "  nxt = visited[end]\n",
        "  while nxt != 0:\n",
        "    path.append(nxt)\n",
        "    nxt = visited[nxt]\n",
        "  return path[:-1]\n",
        "\n",
        "\n",
        "solv()\n",
        "\n",
        "\n",
        "\n",
        "\n",
        "\n",
        "\n",
        "\n",
        "\n",
        "    \n",
        "\n",
        "\n",
        "\n",
        "\n",
        "\n",
        "\n",
        "\n"
      ]
    },
    {
      "cell_type": "code",
      "source": [
        "a = [False for _ in range(n+1)]\n",
        "a"
      ],
      "metadata": {
        "colab": {
          "base_uri": "https://localhost:8080/"
        },
        "id": "ecH70bVPWCHk",
        "outputId": "7350a410-300e-48c5-bfec-6f1bf99f41cf"
      },
      "execution_count": 12,
      "outputs": [
        {
          "output_type": "execute_result",
          "data": {
            "text/plain": [
              "[False, False, False, False, False]"
            ]
          },
          "metadata": {},
          "execution_count": 12
        }
      ]
    },
    {
      "cell_type": "code",
      "source": [
        "graph_b"
      ],
      "metadata": {
        "colab": {
          "base_uri": "https://localhost:8080/"
        },
        "id": "g2FIupMAekms",
        "outputId": "583452a0-f9f6-4119-8b1c-27c1c378452b"
      },
      "execution_count": 15,
      "outputs": [
        {
          "output_type": "execute_result",
          "data": {
            "text/plain": [
              "[[], [3, 2], [4, 3, 1], [4, 2, 1], [3, 2]]"
            ]
          },
          "metadata": {},
          "execution_count": 15
        }
      ]
    },
    {
      "cell_type": "code",
      "source": [
        "graph_s"
      ],
      "metadata": {
        "colab": {
          "base_uri": "https://localhost:8080/"
        },
        "id": "uTxOV_-MejVE",
        "outputId": "230e8fdf-1bd1-4e10-a5b5-3f2a79aed134"
      },
      "execution_count": 14,
      "outputs": [
        {
          "output_type": "execute_result",
          "data": {
            "text/plain": [
              "[[], [2, 3], [1, 3, 4], [1, 2, 4], [2, 3]]"
            ]
          },
          "metadata": {},
          "execution_count": 14
        }
      ]
    }
  ]
}