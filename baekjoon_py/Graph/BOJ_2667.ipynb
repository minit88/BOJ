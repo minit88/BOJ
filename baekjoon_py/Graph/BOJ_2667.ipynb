{
 "cells": [
  {
   "metadata": {
    "ExecuteTime": {
     "end_time": "2024-05-06T12:27:33.506178Z",
     "start_time": "2024-05-06T12:27:33.502814Z"
    }
   },
   "cell_type": "code",
   "source": [
    "# import sys\n",
    "# input = sys.stdin.readline\n",
    "\n",
    "from collections import deque"
   ],
   "id": "5268eeda4a07ad23",
   "outputs": [],
   "execution_count": 128
  },
  {
   "metadata": {
    "ExecuteTime": {
     "end_time": "2024-05-06T12:27:34.946465Z",
     "start_time": "2024-05-06T12:27:33.509241Z"
    }
   },
   "cell_type": "code",
   "source": [
    "n = int(input())\n",
    "arr = []\n",
    "\n",
    "dx = [-1,1,0,0]\n",
    "dy = [0,0,-1,1]\n"
   ],
   "id": "4f14c2834cc2fe2c",
   "outputs": [],
   "execution_count": 129
  },
  {
   "metadata": {
    "ExecuteTime": {
     "end_time": "2024-05-06T12:28:02.083466Z",
     "start_time": "2024-05-06T12:27:34.947626Z"
    }
   },
   "cell_type": "code",
   "source": [
    "for _ in range(n):\n",
    "    arr.append(list(map(int,input())))"
   ],
   "id": "53fc5f0fb89d6a8a",
   "outputs": [],
   "execution_count": 130
  },
  {
   "metadata": {
    "ExecuteTime": {
     "end_time": "2024-05-06T12:46:53.785885Z",
     "start_time": "2024-05-06T12:46:53.782719Z"
    }
   },
   "cell_type": "code",
   "source": [
    "# 해당 좌표의 단지 수 저장 배열\n",
    "# 0 일 경우 단지 x\n",
    "aptComplexNumberArr = [[0]*(n) for _ in range(n)]\n"
   ],
   "id": "364f19a81d75b57f",
   "outputs": [],
   "execution_count": 142
  },
  {
   "metadata": {
    "ExecuteTime": {
     "end_time": "2024-05-06T12:46:51.261979Z",
     "start_time": "2024-05-06T12:46:51.254895Z"
    }
   },
   "cell_type": "code",
   "source": [
    "def dfs (startX,startY,complexNumber) :\n",
    "    \n",
    "    aptCount = 0 # 해당 단지에 포함된 아파트 수\n",
    "    q = deque([(startX,startY)])\n",
    "    aptComplexNumberArr[startX][startY] +=complexNumber # 해당 좌표에 단지 수 저장\n",
    "    \n",
    "    while q:\n",
    "        x,y = q.popleft()\n",
    "        \n",
    "        aptCount+=1 # 아파트수 +=1\n",
    "        temporaryDeque = deque([])\n",
    "        for i in range(4):\n",
    "            nextX = x + dx[i]\n",
    "            nextY = y + dy[i]\n",
    "            # x,y가 범위 내일 경우 \n",
    "            if 0<=nextX<=n-1 and 0<=nextY<=n-1 :\n",
    "                \n",
    "                # 해당 좌표에 단지 정보가 없을 경우 -> 방문하지 않았을 경우\n",
    "                if aptComplexNumberArr[nextX][nextY] == 0:\n",
    "                    # 아파트가 있을 경우 방문처리 후 큐에 담음 \n",
    "                    if arr[nextX][nextY]==1 :\n",
    "                        aptComplexNumberArr[nextX][nextY] += complexNumber # 단지 정보 저장 및 방문처리\n",
    "                        temporaryDeque.append((nextX,nextY))\n",
    "                    # 아파트가 없을 경우 넘어감 \n",
    "                    elif arr[nextX][nextY]==0 :\n",
    "                        continue\n",
    "        # (dfs) \n",
    "        q=temporaryDeque+q\n",
    "        \n",
    "    return aptCount\n",
    "\n"
   ],
   "id": "74e364e9c74cd7cc",
   "outputs": [],
   "execution_count": 141
  },
  {
   "metadata": {
    "ExecuteTime": {
     "end_time": "2024-05-06T12:46:55.719202Z",
     "start_time": "2024-05-06T12:46:55.714531Z"
    }
   },
   "cell_type": "code",
   "source": [
    "result = []\n",
    "aptComplexNumber = 0\n",
    "for i in range(n):\n",
    "    for j in range(n):\n",
    "        # 해당 좌표에 집이 있으면서 단지 정보가 없을 경우\n",
    "        if arr[i][j] ==1 and aptComplexNumberArr[i][j]==0 :\n",
    "            aptComplexNumber+=1\n",
    "            \n",
    "            # start dfs\n",
    "            result.append(dfs(i,j,aptComplexNumber))\n",
    "            "
   ],
   "id": "2a234dfb36770c6",
   "outputs": [],
   "execution_count": 143
  },
  {
   "metadata": {
    "ExecuteTime": {
     "end_time": "2024-05-06T12:46:59.820235Z",
     "start_time": "2024-05-06T12:46:59.816416Z"
    }
   },
   "cell_type": "code",
   "source": [
    "result.sort()\n",
    "print(len(result))\n",
    "for i in result :\n",
    "    print(i)\n",
    "        "
   ],
   "id": "e705a7d58495f315",
   "outputs": [
    {
     "name": "stdout",
     "output_type": "stream",
     "text": [
      "3\n",
      "7\n",
      "8\n",
      "9\n"
     ]
    }
   ],
   "execution_count": 144
  },
  {
   "metadata": {},
   "cell_type": "code",
   "outputs": [
    {
     "data": {
      "text/plain": [
       "[[0, 1, 1, 0, 2, 0, 0],\n",
       " [0, 1, 1, 0, 2, 0, 2],\n",
       " [1, 1, 1, 0, 2, 0, 2],\n",
       " [0, 0, 0, 0, 2, 2, 2],\n",
       " [0, 3, 0, 0, 0, 0, 0],\n",
       " [0, 3, 3, 3, 3, 3, 0],\n",
       " [0, 3, 3, 3, 0, 0, 0]]"
      ]
     },
     "execution_count": 145,
     "metadata": {},
     "output_type": "execute_result"
    }
   ],
   "execution_count": 145,
   "source": "aptComplexNumberArr",
   "id": "f9e19cd1c9f073fb"
  }
 ],
 "metadata": {
  "kernelspec": {
   "display_name": "Python 3",
   "language": "python",
   "name": "python3"
  },
  "language_info": {
   "codemirror_mode": {
    "name": "ipython",
    "version": 2
   },
   "file_extension": ".py",
   "mimetype": "text/x-python",
   "name": "python",
   "nbconvert_exporter": "python",
   "pygments_lexer": "ipython2",
   "version": "2.7.6"
  }
 },
 "nbformat": 4,
 "nbformat_minor": 5
}
