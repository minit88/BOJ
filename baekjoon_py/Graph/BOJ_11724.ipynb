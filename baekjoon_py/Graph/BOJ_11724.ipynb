{
 "cells": [
  {
   "cell_type": "code",
   "id": "initial_id",
   "metadata": {
    "collapsed": true,
    "ExecuteTime": {
     "end_time": "2024-05-05T09:57:14.521779Z",
     "start_time": "2024-05-05T09:57:12.173427Z"
    }
   },
   "source": [
    "# import sys\n",
    "# input = sys.stdin.readline\n",
    "\n",
    "from collections import deque\n",
    "\n",
    "n,m = map(int,input().split())\n",
    "\n",
    "graph = [[] for _ in range(n+1)]\n",
    "\n",
    "# 양방향처리\n",
    "for i in range(m):\n",
    "    a,b = map(int,input().split())\n",
    "    graph[a].append(b)\n",
    "    graph[b].append(a)\n",
    "    \n",
    "def dfs (start):\n",
    "    parent = [-1]*(n+1) # 방문하지 않았을 때 -1\n",
    "    q = deque([])\n",
    "\n",
    "    # 각 노드 별로 dfs 처리\n",
    "    for startingNode in range(1,n+1):\n",
    "        q=q+deque(graph[startingNode])\n",
    "        \n",
    "        while q:\n",
    "            nowNode = q.popleft()\n",
    "            \n",
    "            # 방문하지 않았을 경우 시작 지점 처리\n",
    "            if parent[nowNode] == -1 :\n",
    "                parent[nowNode] = startingNode\n",
    "\n",
    "                for nextNode in graph[nowNode] :\n",
    "                    q.append(nextNode)\n",
    "                    \n",
    "             # 방문한 적이 있는 경우 continue\n",
    "            elif parent[nowNode]!= -1:\n",
    "                continue\n",
    "                \n",
    "    return parent\n",
    "\n",
    "connectedNodeCount = [0]*(n+1)\n",
    "result = 0\n",
    "dfsResult = dfs(1)\n",
    "\n",
    "# 1부터 n 까지\n",
    "for i in range(1,n+1) :\n",
    "    \n",
    "    # 연결이 되지 않은 노드일 경우 자신 노드에 connectedNodeCount+=1 (연결되지 않아도 연결요소)\n",
    "    if dfsResult[i]==-1:\n",
    "        connectedNodeCount[i]+=1\n",
    "        \n",
    "    # 연결 요소일 경우 부모 노드에 connectedNodeCount+=1\n",
    "    else:\n",
    "        connectedNodeCount[dfsResult[i]]+=1\n",
    "    \n",
    "for count in connectedNodeCount :\n",
    "    # 연결 요소일 조건 : count >=1\n",
    "    if count>=1:\n",
    "        result += 1\n",
    "        \n",
    "print(result)\n"
   ],
   "outputs": [
    {
     "name": "stdout",
     "output_type": "stream",
     "text": [
      "4\n",
      "[-1, -1, 2, 2, -1, -1]\n"
     ]
    }
   ],
   "execution_count": 29
  }
 ],
 "metadata": {
  "kernelspec": {
   "display_name": "Python 3",
   "language": "python",
   "name": "python3"
  },
  "language_info": {
   "codemirror_mode": {
    "name": "ipython",
    "version": 2
   },
   "file_extension": ".py",
   "mimetype": "text/x-python",
   "name": "python",
   "nbconvert_exporter": "python",
   "pygments_lexer": "ipython2",
   "version": "2.7.6"
  }
 },
 "nbformat": 4,
 "nbformat_minor": 5
}
