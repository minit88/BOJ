{
  "nbformat": 4,
  "nbformat_minor": 0,
  "metadata": {
    "colab": {
      "provenance": []
    },
    "kernelspec": {
      "name": "python3",
      "display_name": "Python 3"
    },
    "language_info": {
      "name": "python"
    }
  },
  "cells": [
    {
      "cell_type": "code",
      "execution_count": 8,
      "metadata": {
        "colab": {
          "base_uri": "https://localhost:8080/"
        },
        "id": "C4GbKTlhX3me",
        "outputId": "d0bb5a16-b818-484e-e7c8-4a3a277e5b52"
      },
      "outputs": [
        {
          "output_type": "stream",
          "name": "stdout",
          "text": [
            "7\n",
            "3\n",
            "1\n",
            "1\n",
            "5\n",
            "5\n",
            "4\n",
            "6\n",
            "3\n",
            "1\n",
            "3\n",
            "5\n"
          ]
        }
      ],
      "source": [
        "n= int(input())\n",
        "\n",
        "array_a = [i for i in range(1,n+1)]\n",
        "array_b = []\n",
        "idx= n\n",
        "for i in range(n):\n",
        "  array_b.append(int(input()))\n",
        "\n",
        "\n",
        "while True:\n",
        "  check_cnt_a = 0\n",
        "  check_cnt_b = 0\n",
        "  # a->b\n",
        "  for i in range(n):\n",
        "    na = array_a[i]\n",
        "\n",
        "    if int(na) >0 :\n",
        "      if na in array_b:\n",
        "        check_cnt_a+=1\n",
        "        continue\n",
        "      else:\n",
        "        array_a[i]=-1\n",
        "        array_b[i]=-1\n",
        "    else:\n",
        "      check_cnt_a+=1\n",
        "\n",
        "  #b->a\n",
        "  for i in range(n):\n",
        "    nb= array_b[i]\n",
        "    if int(nb) >0 :\n",
        "      if nb in array_a:\n",
        "        check_cnt_b+=1\n",
        "        continue\n",
        "      else:\n",
        "        array_a[i]=-1\n",
        "        array_b[i]=-1\n",
        "    else:\n",
        "      check_cnt_b+=1\n",
        "      \n",
        "  if check_cnt_a==n and check_cnt_b == n:\n",
        "    break\n",
        "\n",
        "\n",
        "result =[]\n",
        "for i in range(n):\n",
        "  if array_b[i]!=-1 :\n",
        "    result.append(array_b[i])\n",
        "result.sort()\n",
        "print(len(result))\n",
        "for i in result :\n",
        "  print(i)"
      ]
    }
  ]
}