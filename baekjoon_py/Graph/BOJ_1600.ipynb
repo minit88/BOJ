{
  "nbformat": 4,
  "nbformat_minor": 0,
  "metadata": {
    "colab": {
      "provenance": [],
      "authorship_tag": "ABX9TyPMlesfucibTWhTgvJW5nWS"
    },
    "kernelspec": {
      "name": "python3",
      "display_name": "Python 3"
    },
    "language_info": {
      "name": "python"
    }
  },
  "cells": [
    {
      "cell_type": "code",
      "execution_count": null,
      "metadata": {
        "id": "2ygGyKg4EKZo"
      },
      "outputs": [],
      "source": [
        "from collections import deque\n",
        "import sys\n",
        "sys.setrecursionlimit(10**8)\n",
        "\n",
        "K= int(sys.stdin.readline())\n",
        "W,H = map(int,sys.stdin.readline().split()) # 가로 세로\n",
        "\n",
        "# 체스판 이동횟수 정보리스트\n",
        "array = [[-1]*W for i in range(H)]\n",
        "array[0][0]=0 # 초기 거리는 0\n",
        "\n",
        "\n",
        "\n",
        "# 체스판 정보\n",
        "array_map = []\n",
        "for i in range(H):\n",
        "  x = list(map(int,sys.stdin.readline().split()))\n",
        "  array_map.append(x)\n",
        "\n",
        "# 원숭이 방향\n",
        "Monkey_y = [0, 0, -1, 1]\n",
        "Monkey_x = [-1, 1, 0, 0]\n",
        "\n",
        "# 말 방향\n",
        "Horse_y = [-2, -1, 1, 2, 2, 1, -1, -2]\n",
        "Horse_x = [-1, -2, -2, -1, 1, 2, 2, 1]\n",
        "\n",
        "def bfs():\n",
        "  q=deque([(0,0,0,K)]) # y,x,k\n",
        "  while q:\n",
        "    x,y,cnt,hor = q.popleft() # 현재 y , 현재 x, 남은 말 갯수\n",
        "\n",
        "    # 말 이동방향\n",
        "    if hor>=1: # 말 이동가능 횟수가 1이상 일 때\n",
        "      for i in range(8):\n",
        "        nx, ny = x + Horse_x[i], y + Horse_y[i]\n",
        "        if 0<=nx<H and 0<=ny<W and array_map[nx][ny]==0: # 범위 안 , 평지\n",
        "          if array[nx][ny]==-1 or array[nx][ny]<hor-1 : # 이전에 더 적은 말의 갯수로 이동한 적이 있으면\n",
        "            if nx == H-1 and ny == W-1:\n",
        "              return cnt+1\n",
        "            array[nx][ny]=hor-1\n",
        "            q.append((nx,ny,cnt+1,hor-1))\n",
        "\n",
        "    # 원숭이 이동방향\n",
        "    for i in range(4):\n",
        "      nx, ny = x + Monkey_x[i], y + Monkey_y[i]\n",
        "      if 0<=nx<H and 0<=ny<W and array_map[nx][ny]==0: # 범위 안 , 평지\n",
        "          if array[nx][ny]==-1 or array[nx][ny]<hor : # 이전에 더 적은 말의 갯수로 이동한 적이 있으면\n",
        "            if nx == H-1 and ny == W-1:\n",
        "              return cnt+1\n",
        "            array[nx][ny]=hor\n",
        "            q.append((nx,ny,cnt+1,hor))\n",
        "    \n",
        "    \n",
        "        \n",
        "  return -1\n",
        "\n",
        "\n",
        "if W==1 and H==1:\n",
        "  print(0)\n",
        "else:\n",
        "  print(bfs())\n",
        "\n",
        "  \n",
        "\n"
      ]
    }
  ]
}