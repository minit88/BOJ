{
 "cells": [
  {
   "cell_type": "code",
   "id": "initial_id",
   "metadata": {
    "collapsed": true
   },
   "source": [
    "#import sys\n",
    "#input = sys.stdin.readline\n",
    "\n",
    "n,m = map(int,input().split())\n",
    "\n",
    "arr =[]\n",
    "\n",
    "for i in range (1,n+1):\n",
    "    arr.append(list(map(int,input().split())))\n",
    "\n",
    "dp = [[0]*(n+1) for _ in range(n+1)]\n",
    "for i in range(1,n+1):\n",
    "    for j in range(1,n+1):\n",
    "        dp[i][j] = dp[i][j-1]+dp[i-1][j]-dp[i-1][j-1]+arr[i-1][j-1] \n",
    "        \n",
    "for i in range(m) :\n",
    "    x1,y1,x2,y2 = map(int,input().split())\n",
    "    result = dp[x2][y2]-dp[x2][y1-1]-dp[x1-1][y2]+dp[x1-1][y1-1]\n",
    "    print(result)\n",
    "    "
   ],
   "outputs": [],
   "execution_count": null
  }
 ],
 "metadata": {
  "kernelspec": {
   "display_name": "Python 3",
   "language": "python",
   "name": "python3"
  },
  "language_info": {
   "codemirror_mode": {
    "name": "ipython",
    "version": 2
   },
   "file_extension": ".py",
   "mimetype": "text/x-python",
   "name": "python",
   "nbconvert_exporter": "python",
   "pygments_lexer": "ipython2",
   "version": "2.7.6"
  }
 },
 "nbformat": 4,
 "nbformat_minor": 5
}
