{
  "nbformat": 4,
  "nbformat_minor": 0,
  "metadata": {
    "colab": {
      "provenance": []
    },
    "kernelspec": {
      "name": "python3",
      "display_name": "Python 3"
    },
    "language_info": {
      "name": "python"
    }
  },
  "cells": [
    {
      "cell_type": "code",
      "execution_count": 6,
      "metadata": {
        "colab": {
          "base_uri": "https://localhost:8080/"
        },
        "id": "DCG6jlLVUnJk",
        "outputId": "c367596e-dbb9-41c0-b041-7900fc097c37"
      },
      "outputs": [
        {
          "output_type": "stream",
          "name": "stdout",
          "text": [
            "ACAYKP\n",
            "CAPCAK\n",
            "4\n"
          ]
        }
      ],
      "source": [
        "string1= list(map(str,input()))\n",
        "string2= list(map(str,input()))\n",
        "\n",
        "l1,l2 = len(string1),len(string2)\n",
        "cache = [0]*l2\n",
        "for i in range(l1):\n",
        "  cnt = 0\n",
        "  for j in range(l2):\n",
        "    if cnt<cache[j]:\n",
        "      cnt = cache[j]\n",
        "    elif string1[i]==string2[j]:\n",
        "      cache[j]=cnt+1\n",
        "    \n",
        "\n",
        "print(max(cache))"
      ]
    },
    {
      "cell_type": "code",
      "source": [
        "string1"
      ],
      "metadata": {
        "colab": {
          "base_uri": "https://localhost:8080/"
        },
        "id": "Ma0nlj_LuqAt",
        "outputId": "928af606-c99a-475c-ac15-709f3017be54"
      },
      "execution_count": 5,
      "outputs": [
        {
          "output_type": "execute_result",
          "data": {
            "text/plain": [
              "['ACAYKP']"
            ]
          },
          "metadata": {},
          "execution_count": 5
        }
      ]
    }
  ]
}