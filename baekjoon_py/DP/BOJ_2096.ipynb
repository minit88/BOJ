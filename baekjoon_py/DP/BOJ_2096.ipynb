{
  "nbformat": 4,
  "nbformat_minor": 0,
  "metadata": {
    "colab": {
      "provenance": []
    },
    "kernelspec": {
      "name": "python3",
      "display_name": "Python 3"
    },
    "language_info": {
      "name": "python"
    }
  },
  "cells": [
    {
      "cell_type": "markdown",
      "source": [
        "# **틀린풀이**"
      ],
      "metadata": {
        "id": "m00tho4HzCKs"
      }
    },
    {
      "cell_type": "code",
      "execution_count": 10,
      "metadata": {
        "colab": {
          "base_uri": "https://localhost:8080/"
        },
        "id": "BmoJqNLEmTQS",
        "outputId": "0b7c3001-77ff-4c64-d2e0-fbde85407a36"
      },
      "outputs": [
        {
          "output_type": "stream",
          "name": "stdout",
          "text": [
            "3\n",
            "1 2 3\n",
            "4 5 6\n",
            "4 9 0\n",
            "18 6\n"
          ]
        }
      ],
      "source": [
        "import copy\n",
        "\n",
        "n=int(input())\n",
        "array =[]\n",
        "for i in range(n):\n",
        "  array.append(list(map(int,input().split())))\n",
        "\n",
        "maxArray=copy.deepcopy(array)\n",
        "minArray=copy.deepcopy(array)\n",
        "\n",
        "\n",
        "for i in range(n-1):\n",
        "  maxArray[i+1][0]+=max(maxArray[i][0:2])\n",
        "  minArray[i+1][0]+=min(minArray[i][0:2])\n",
        "\n",
        "  maxArray[i+1][1]+=max(maxArray[i][0:])\n",
        "  minArray[i+1][1]+=min(minArray[i][0:])\n",
        "\n",
        "  maxArray[i+1][2]+=max(maxArray[i][1:])\n",
        "  minArray[i+1][2]+=min(minArray[i][1:])\n",
        "\n",
        "\n",
        "minValue = min(minArray[n-1][0:]) \n",
        "maxValue = max(maxArray[n-1][0:])\n",
        "result = \"%d %d\" %(maxValue,minValue)\n",
        "print(result)\n"
      ]
    },
    {
      "cell_type": "markdown",
      "source": [
        "# **고친풀이**"
      ],
      "metadata": {
        "id": "nucP7syJzFpB"
      }
    },
    {
      "cell_type": "code",
      "source": [
        "from re import A\n",
        "import copy\n",
        "\n",
        "n=int(input())\n",
        "\n",
        "maxArray=[0]*3\n",
        "minArray=[0]*3\n",
        "maxTmp = [0]*3\n",
        "minTmp = [0]*3\n",
        "\n",
        "\n",
        "for i in range(n):\n",
        "  a,b,c = map(int,input().split())\n",
        "  maxTmp[0]=max(maxArray[0:2])+a\n",
        "  minTmp[0]=min(minArray[0:2])+a\n",
        "\n",
        "  maxTmp[1]=max(maxArray[0:])+b\n",
        "  minTmp[1]=min(minArray[0:])+b\n",
        "\n",
        "  maxTmp[2]=max(maxArray[1:])+c\n",
        "  minTmp[2]=min(minArray[1:])+c\n",
        "\n",
        "  maxArray = copy.deepcopy(maxTmp)\n",
        "  minArray = copy.deepcopy(minTmp)\n",
        "\n",
        "\n",
        "\n",
        "minValue = min(minArray[0:]) \n",
        "maxValue = max(maxArray[0:])\n",
        "result = \"%d %d\" %(maxValue,minValue)\n",
        "print(result)\n"
      ],
      "metadata": {
        "colab": {
          "base_uri": "https://localhost:8080/"
        },
        "id": "FcIw2ElAvHK7",
        "outputId": "0d85a042-b2bc-43a1-ed91-a04c6be4df91"
      },
      "execution_count": 18,
      "outputs": [
        {
          "output_type": "stream",
          "name": "stdout",
          "text": [
            "3\n",
            "1 2 3\n",
            "4 5 6\n",
            "4 9 0\n",
            "18 6\n"
          ]
        }
      ]
    }
  ]
}