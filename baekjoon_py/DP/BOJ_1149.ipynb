{
  "nbformat": 4,
  "nbformat_minor": 0,
  "metadata": {
    "colab": {
      "provenance": []
    },
    "kernelspec": {
      "name": "python3",
      "display_name": "Python 3"
    },
    "language_info": {
      "name": "python"
    }
  },
  "cells": [
    {
      "cell_type": "code",
      "execution_count": 11,
      "metadata": {
        "colab": {
          "base_uri": "https://localhost:8080/"
        },
        "id": "vfrdbhiA3Ocm",
        "outputId": "87b87871-dba2-46b8-adbd-57a309d7769d"
      },
      "outputs": [
        {
          "output_type": "stream",
          "name": "stdout",
          "text": [
            "8\n",
            "71 39 44\n",
            "32 83 55\n",
            "51 37 63\n",
            "89 29 100\n",
            "83 58 11\n",
            "65 13 15\n",
            "47 25 29\n",
            "60 66 19\n",
            "310\n"
          ]
        }
      ],
      "source": [
        "# 오답풀이\n",
        "n=int(input())\n",
        "array = [] # 인덱스 , 비용\n",
        "result = 0\n",
        "for j in range(n):\n",
        "  rgb_array=list(map(int,input().split()))\n",
        "  ab=[]\n",
        "  for i in range(3):\n",
        "    ab.append([i,rgb_array[i]])\n",
        "  ab.sort(key=lambda n: (n[1]))\n",
        "  array.append(ab)\n",
        "\n",
        "previous = array[0]\n",
        "now = array[1]\n",
        "\n",
        "previous_idx=0\n",
        "now_idx=0\n",
        "\n",
        "if previous[0][0] == now[0][0]: # 젤 작은 비용이 같은 색상이 아닐경우\n",
        "  if previous[0][1]+now[1][1]>previous[1][1]+now[0][1]:\n",
        "    previous_idx=now[0][0]\n",
        "    result+=previous[1][1]+now[0][1]\n",
        "  \n",
        "  else:\n",
        "    previous_idx=now[1][0]\n",
        "    result+=previous[0][1]+now[1][1]\n",
        "else:\n",
        "  result += previous[0][1]+now[0][1]\n",
        "  previous_idx=now[0][0]\n",
        "  previous = now\n",
        "\n",
        "previous = array[1]\n",
        "for i in range(2,n): # 2~n-1까지\n",
        "\n",
        "  for now in array[i]:\n",
        "    if previous_idx != now[0]:\n",
        "      result+=now[1]\n",
        "      previous_idx=now[0]\n",
        "      break\n",
        "\n",
        "print(result)\n",
        "\n",
        "\n",
        "  \n"
      ]
    },
    {
      "cell_type": "code",
      "source": [
        "array"
      ],
      "metadata": {
        "colab": {
          "base_uri": "https://localhost:8080/"
        },
        "id": "LdZrsMUUILcZ",
        "outputId": "cf25e569-614e-4b6d-dd78-5eb19c5f05ae"
      },
      "execution_count": 12,
      "outputs": [
        {
          "output_type": "execute_result",
          "data": {
            "text/plain": [
              "[[[1, 39], [2, 44], [0, 71]],\n",
              " [[0, 32], [2, 55], [1, 83]],\n",
              " [[1, 37], [0, 51], [2, 63]],\n",
              " [[1, 29], [0, 89], [2, 100]],\n",
              " [[2, 11], [1, 58], [0, 83]],\n",
              " [[1, 13], [2, 15], [0, 65]],\n",
              " [[1, 25], [2, 29], [0, 47]],\n",
              " [[2, 19], [0, 60], [1, 66]]]"
            ]
          },
          "metadata": {},
          "execution_count": 12
        }
      ]
    },
    {
      "cell_type": "code",
      "source": [
        "a=[39,32,37,89,11,13,29,60]\n",
        "sum(a)"
      ],
      "metadata": {
        "colab": {
          "base_uri": "https://localhost:8080/"
        },
        "id": "6XPqW3mvIY_2",
        "outputId": "233f5e82-d343-40d6-cef2-d38fefee433c"
      },
      "execution_count": 13,
      "outputs": [
        {
          "output_type": "execute_result",
          "data": {
            "text/plain": [
              "310"
            ]
          },
          "metadata": {},
          "execution_count": 13
        }
      ]
    },
    {
      "cell_type": "code",
      "source": [
        "# 정답풀이\n",
        "n = int(input())\n",
        "p = []\n",
        "for i in range(n):\n",
        "    p.append(list(map(int, input().split())))\n",
        "for i in range(1, len(p)):\n",
        "    p[i][0] = min(p[i - 1][1], p[i - 1][2]) + p[i][0]\n",
        "    p[i][1] = min(p[i - 1][0], p[i - 1][2]) + p[i][1]\n",
        "    p[i][2] = min(p[i - 1][0], p[i - 1][1]) + p[i][2]\n",
        "print(min(p[n - 1][0], p[n - 1][1], p[n - 1][2]))"
      ],
      "metadata": {
        "id": "-sygw-UlI4KJ"
      },
      "execution_count": null,
      "outputs": []
    }
  ]
}