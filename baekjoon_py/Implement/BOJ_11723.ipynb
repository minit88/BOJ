{
  "nbformat": 4,
  "nbformat_minor": 0,
  "metadata": {
    "colab": {
      "provenance": [],
      "authorship_tag": "ABX9TyPPwAUpu2ZsKqxm8tto2UIA"
    },
    "kernelspec": {
      "name": "python3",
      "display_name": "Python 3"
    },
    "language_info": {
      "name": "python"
    }
  },
  "cells": [
    {
      "cell_type": "code",
      "execution_count": null,
      "metadata": {
        "id": "FhR1iVEcUnMe"
      },
      "outputs": [],
      "source": [
        "import sys\n",
        "n= int(sys.stdin.readline())\n",
        "array = set()\n",
        "\n",
        "for _ in range(n):\n",
        "  temp = sys.stdin.readline().strip().split()\n",
        "\n",
        "  if len(temp)==1:\n",
        "    if temp[0] == 'all':\n",
        "      array = set([i for i in range(1,21)])\n",
        "    \n",
        "\n",
        "    else:\n",
        "      array = set()\n",
        "\n",
        "  else:\n",
        "    func,x = temp[0],int(temp[1])\n",
        "    if func == 'add':\n",
        "      array.add(x)\n",
        "\n",
        "    elif func == 'remove':\n",
        "      array.discard(x) # remove 사용 시에 원소가 없으면 에러 -> discard 로 에러 방지\n",
        "\n",
        "    elif func == 'check':\n",
        "      if x in array:\n",
        "        print(1)\n",
        "      else:\n",
        "        print(0)\n",
        "\n",
        "    elif func == 'toggle':\n",
        "      if x in array:\n",
        "        array.discard(x)\n",
        "      else:\n",
        "        array.add(x)\n",
        "\n",
        "  \n"
      ]
    }
  ]
}