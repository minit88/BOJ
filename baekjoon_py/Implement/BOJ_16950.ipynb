{
  "nbformat": 4,
  "nbformat_minor": 0,
  "metadata": {
    "colab": {
      "provenance": []
    },
    "kernelspec": {
      "name": "python3",
      "display_name": "Python 3"
    },
    "language_info": {
      "name": "python"
    }
  },
  "cells": [
    {
      "cell_type": "code",
      "execution_count": 22,
      "metadata": {
        "colab": {
          "base_uri": "https://localhost:8080/"
        },
        "id": "nVfgdkW97NIs",
        "outputId": "d1433894-b022-480f-ef70-9c7fd21090d3"
      },
      "outputs": [
        {
          "output_type": "stream",
          "name": "stdout",
          "text": [
            "4 5\n",
            "3 1 3 5\n",
            "1 2\n",
            "3 3 4 5\n",
            "1 1\n",
            "0\n"
          ]
        }
      ],
      "source": [
        "n,m = map(int,input().split()) # 스위치 , 램프\n",
        "ramps = [0]*2001\n",
        "sw = [[]for i in range(2001)]\n",
        "count = 0 # 업데이트한개수\n",
        "result = 0\n",
        "for j in range(1,n+1):\n",
        "  switch = list(map(int,input().split())) # 연결된 램프 수, 램프번호\n",
        "\n",
        "  if switch[0] == 0:\n",
        "    continue\n",
        "  else :\n",
        "    for i in switch[1:]:\n",
        "      ramps[i]+=1\n",
        "      sw[j].append(i)\n",
        "\n",
        "for i in range(1,n+1):\n",
        "  count = 0\n",
        "  for j in sw[i]:\n",
        "    if ramps[j]>1:\n",
        "      count+=1\n",
        "  if count==len(sw[i]):\n",
        "    result = 1\n",
        "    break\n",
        "print(result)\n",
        "       \n",
        "\n",
        "\n",
        "\n",
        "  \n",
        " "
      ]
    },
    {
      "cell_type": "code",
      "source": [
        "2000 * 1999 * "
      ],
      "metadata": {
        "colab": {
          "base_uri": "https://localhost:8080/"
        },
        "id": "VqMw4WvxBBOG",
        "outputId": "a6c708a4-d25f-4935-fd8d-863ce3100168"
      },
      "execution_count": 14,
      "outputs": [
        {
          "output_type": "execute_result",
          "data": {
            "text/plain": [
              "[1, 1, 1, 1, 1]"
            ]
          },
          "metadata": {},
          "execution_count": 14
        }
      ]
    }
  ]
}