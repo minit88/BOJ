{
  "nbformat": 4,
  "nbformat_minor": 0,
  "metadata": {
    "colab": {
      "provenance": [],
      "authorship_tag": "ABX9TyP8OOpqgD835LzcnfO6/UNo",
      "include_colab_link": true
    },
    "kernelspec": {
      "name": "python3",
      "display_name": "Python 3"
    },
    "language_info": {
      "name": "python"
    }
  },
  "cells": [
    {
      "cell_type": "markdown",
      "metadata": {
        "id": "view-in-github",
        "colab_type": "text"
      },
      "source": [
        "<a href=\"https://colab.research.google.com/github/minit88/baekjoon_py/blob/main/Data_Structure/BOJ_1874.ipynb\" target=\"_parent\"><img src=\"https://colab.research.google.com/assets/colab-badge.svg\" alt=\"Open In Colab\"/></a>"
      ]
    },
    {
      "cell_type": "code",
      "execution_count": 25,
      "metadata": {
        "colab": {
          "base_uri": "https://localhost:8080/"
        },
        "id": "SLIdLf6B9iha",
        "outputId": "97fd27ae-5acf-4068-c780-577b17b0e66f"
      },
      "outputs": [
        {
          "output_type": "stream",
          "name": "stdout",
          "text": [
            "5\n",
            "1\n",
            "2\n",
            "5\n",
            "3\n",
            "4\n",
            "NO\n"
          ]
        }
      ],
      "source": [
        "n= int(input())\n",
        "\n",
        "stack = [1]\n",
        "result = ['+'] # 0이면 push 1이면 pop\n",
        "array = []\n",
        "now=1\n",
        "fls = False\n",
        "pop_num=0\n",
        "for i in range(n):\n",
        "  array.append(int(input()))\n",
        "\n",
        "for num in array:\n",
        "  if fls == True:\n",
        "    break\n",
        "\n",
        "  while True:\n",
        "    if now>=num:\n",
        "      if stack:\n",
        "        pop_num = stack.pop()\n",
        "        result.append('-')\n",
        "      else:\n",
        "        fls=True\n",
        "        break\n",
        "\n",
        "    elif now<num:\n",
        "      now+=1\n",
        "      stack.append(now)\n",
        "      result.append('+')\n",
        "\n",
        "    if pop_num == num:\n",
        "      break    \n",
        "\n",
        "\n",
        "\n",
        "\n",
        "if fls==True:\n",
        "  print('NO')\n",
        "else:\n",
        "  for i in result:\n",
        "    print(i)"
      ]
    }
  ]
}