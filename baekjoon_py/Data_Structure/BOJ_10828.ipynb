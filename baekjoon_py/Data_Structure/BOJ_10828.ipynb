{
  "nbformat": 4,
  "nbformat_minor": 0,
  "metadata": {
    "colab": {
      "provenance": [],
      "authorship_tag": "ABX9TyObu0YsNcTPqtAJiRJK5wW7"
    },
    "kernelspec": {
      "name": "python3",
      "display_name": "Python 3"
    },
    "language_info": {
      "name": "python"
    }
  },
  "cells": [
    {
      "cell_type": "code",
      "execution_count": 11,
      "metadata": {
        "colab": {
          "base_uri": "https://localhost:8080/"
        },
        "id": "QHJuYaug3idw",
        "outputId": "b26ff8c4-1acc-4810-8587-d1b12f1aedbe"
      },
      "outputs": [
        {
          "output_type": "stream",
          "name": "stdout",
          "text": [
            "7\n",
            "pop\n",
            "-1\n",
            "top\n",
            "-1\n",
            "push 123\n",
            "top\n",
            "123\n",
            "pop\n",
            "123\n",
            "top\n",
            "-1\n",
            "pop\n",
            "-1\n"
          ]
        }
      ],
      "source": [
        "from collections import deque\n",
        "import sys\n",
        "\n",
        "\n",
        "n= int(sys.stdin.readline())\n",
        "\n",
        "stack = deque([])\n",
        "\n",
        "size_stack_value = 0\n",
        "\n",
        "\n",
        "for i in range(n):\n",
        "  a = list(sys.stdin.readline().split())\n",
        "  command = a[0]\n",
        "\n",
        "  if command == 'push':\n",
        "    push_num = int(a[1])\n",
        "    size_stack_value +=1\n",
        "    stack.append(push_num)\n",
        "\n",
        "  elif command == 'pop':\n",
        "    if size_stack_value == 0:\n",
        "      print(-1)\n",
        "    else:\n",
        "      pop_num = stack.pop()\n",
        "      size_stack_value-=1\n",
        "      print(pop_num)\n",
        "\n",
        "  elif command == 'size':\n",
        "    print(size_stack_value)\n",
        "\n",
        "  elif command == 'top': \n",
        "    if size_stack_value == 0:\n",
        "      print(-1)\n",
        "    else:\n",
        "      top_num = stack[-1]\n",
        "      print(top_num)\n",
        "\n",
        "  elif command == 'empty':\n",
        "    if size_stack_value == 0 :\n",
        "      print(1)\n",
        "    else:\n",
        "      print(0)\n",
        "\n"
      ]
    },
    {
      "cell_type": "code",
      "source": [
        "a = list(input().split())"
      ],
      "metadata": {
        "colab": {
          "base_uri": "https://localhost:8080/"
        },
        "id": "3l2ThBjp6qyh",
        "outputId": "3eee4edb-5adb-4345-c531-21de951b27cf"
      },
      "execution_count": 6,
      "outputs": [
        {
          "name": "stdout",
          "output_type": "stream",
          "text": [
            "pop 1\n"
          ]
        }
      ]
    }
  ]
}