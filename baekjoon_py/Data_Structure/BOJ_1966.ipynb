{
  "nbformat": 4,
  "nbformat_minor": 0,
  "metadata": {
    "colab": {
      "provenance": []
    },
    "kernelspec": {
      "name": "python3",
      "display_name": "Python 3"
    },
    "language_info": {
      "name": "python"
    }
  },
  "cells": [
    {
      "cell_type": "code",
      "execution_count": 12,
      "metadata": {
        "colab": {
          "base_uri": "https://localhost:8080/"
        },
        "id": "Gc6XbJnB4j05",
        "outputId": "3ffe0f60-f2d0-49dd-fc37-58431e0c696b"
      },
      "outputs": [
        {
          "output_type": "stream",
          "name": "stdout",
          "text": [
            "3\n",
            "1 0\n",
            "5\n",
            "1\n",
            "4 2\n",
            "1 2 3 4\n",
            "1\n",
            "6 0\n",
            "1 1 9 1 1 1\n",
            "4\n"
          ]
        }
      ],
      "source": [
        "from collections import deque\n",
        "\n",
        "for _ in range(int(input())):\n",
        "  n,m = map(int,input().split()) # 문서의 개수 , 알고 싶은 인덱스\n",
        "  array = list(map(int,input().split()))\n",
        "  result = []\n",
        "  q=deque([])\n",
        "  for i in range(n):\n",
        "    q.append((i,array[i])) # 인덱스, 우선순위\n",
        "  if n==1:\n",
        "    print(1)\n",
        "    continue\n",
        "  while q:\n",
        "   popCheck = False\n",
        "   now_idx,now_rank = q.popleft()\n",
        "   if len(q)==0:\n",
        "     result.append((now_idx,now_rank))\n",
        "     break\n",
        "   for next_idx,next_rank in q:\n",
        "      if  now_rank<next_rank:\n",
        "        q.append((now_idx,now_rank))\n",
        "        popCheck = True\n",
        "        break\n",
        "   if popCheck ==False:\n",
        "     result.append((now_idx,now_rank))\n",
        "\n",
        "    \n",
        "  for i in range(n):\n",
        "    if result[i][0]==m:\n",
        "      print(i+1)\n",
        "      break\n",
        "\n",
        "  \n",
        "  \n",
        "\n"
      ]
    }
  ]
}