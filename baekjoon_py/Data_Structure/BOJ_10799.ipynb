{
  "nbformat": 4,
  "nbformat_minor": 0,
  "metadata": {
    "colab": {
      "provenance": []
    },
    "kernelspec": {
      "name": "python3",
      "display_name": "Python 3"
    },
    "language_info": {
      "name": "python"
    }
  },
  "cells": [
    {
      "cell_type": "code",
      "execution_count": 7,
      "metadata": {
        "colab": {
          "base_uri": "https://localhost:8080/"
        },
        "id": "ZJcpS8pEB_D1",
        "outputId": "92a99ed9-baca-458a-e962-1c5faa983395"
      },
      "outputs": [
        {
          "output_type": "stream",
          "name": "stdout",
          "text": [
            "()(((()())(())()))(())\n",
            "17\n"
          ]
        }
      ],
      "source": [
        "stack =[]\n",
        "previous_str='s'\n",
        "razer_list = [0]*100001\n",
        "result = 0\n",
        "razer=0\n",
        "for i in list(map(str,input())):\n",
        "  if i == '(':\n",
        "    stack.append('(')\n",
        "    \n",
        "  elif i==')':\n",
        "    if previous_str =='(': # 레이저를 찾았을 때\n",
        "      stack.pop(-1)\n",
        "      result +=len(stack)\n",
        "      \n",
        "    elif previous_str ==')':\n",
        "      stack.pop(-1)\n",
        "      result+=1\n",
        "      \n",
        "  previous_str =i\n",
        "\n",
        "print(result) "
      ]
    }
  ]
}