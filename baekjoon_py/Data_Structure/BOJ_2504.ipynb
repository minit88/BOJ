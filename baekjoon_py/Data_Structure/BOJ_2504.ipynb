{
  "nbformat": 4,
  "nbformat_minor": 0,
  "metadata": {
    "colab": {
      "provenance": [],
      "authorship_tag": "ABX9TyPiMLe/171/lJN2bpzHWrKG"
    },
    "kernelspec": {
      "name": "python3",
      "display_name": "Python 3"
    },
    "language_info": {
      "name": "python"
    }
  },
  "cells": [
    {
      "cell_type": "code",
      "execution_count": 7,
      "metadata": {
        "colab": {
          "base_uri": "https://localhost:8080/"
        },
        "id": "avYtc_UtTZxz",
        "outputId": "f963cdae-1e63-4b5b-a83a-4086a6d3d6eb"
      },
      "outputs": [
        {
          "name": "stdout",
          "output_type": "stream",
          "text": [
            "(()[[]])([])\n"
          ]
        },
        {
          "output_type": "execute_result",
          "data": {
            "text/plain": [
              "28"
            ]
          },
          "metadata": {},
          "execution_count": 7
        }
      ],
      "source": [
        "array =input()\n",
        "stack = []\n",
        "temp = 1\n",
        "res = 0\n",
        "\n",
        "for i in range(len(array)):\n",
        "  b=array[i] \n",
        "  if b == '(':\n",
        "    temp*=2\n",
        "    stack.append(b)\n",
        "  elif b=='[':\n",
        "    temp*=3\n",
        "    stack.append(b)\n",
        "  elif b==')':\n",
        "    if not stack or stack[-1]=='[':\n",
        "      res = 0\n",
        "      break\n",
        "    if array[i-1]=='(':\n",
        "      res+=temp\n",
        "    temp//=2\n",
        "    stack.pop()\n",
        "  else:\n",
        "    if not stack or stack[-1]=='(':\n",
        "      res = 0\n",
        "      break\n",
        "    if array[i-1]=='[':\n",
        "      res+=temp\n",
        "    temp//=3\n",
        "    stack.pop()\n",
        "if stack:\n",
        "  print(0)\n",
        "else:\n",
        "  print(res)\n",
        "\n",
        "\n",
        "# 2*(2+9) = 2*2 + 2*9 = 22"
      ]
    }
  ]
}