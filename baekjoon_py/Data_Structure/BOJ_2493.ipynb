{
  "nbformat": 4,
  "nbformat_minor": 0,
  "metadata": {
    "colab": {
      "provenance": [],
      "authorship_tag": "ABX9TyMr3OTLhOq852rH8x0g8tIe",
      "include_colab_link": true
    },
    "kernelspec": {
      "name": "python3",
      "display_name": "Python 3"
    },
    "language_info": {
      "name": "python"
    }
  },
  "cells": [
    {
      "cell_type": "markdown",
      "metadata": {
        "id": "view-in-github",
        "colab_type": "text"
      },
      "source": [
        "<a href=\"https://colab.research.google.com/github/minit88/baekjoon_py/blob/main/Data_Structure/BOJ_2493.ipynb\" target=\"_parent\"><img src=\"https://colab.research.google.com/assets/colab-badge.svg\" alt=\"Open In Colab\"/></a>"
      ]
    },
    {
      "cell_type": "code",
      "execution_count": 15,
      "metadata": {
        "colab": {
          "base_uri": "https://localhost:8080/"
        },
        "id": "p9VMf_j6OUMb",
        "outputId": "728d668d-9e7c-4e74-9898-2e52c11bef56"
      },
      "outputs": [
        {
          "output_type": "stream",
          "name": "stdout",
          "text": [
            "5\n",
            "6 9 5 7 4\n",
            "0 0 2 2 4 "
          ]
        }
      ],
      "source": [
        "\n",
        "n= int(input())\n",
        "\n",
        "tops = list(map(int,input().split()))\n",
        "\n",
        "\n",
        "answer = []\n",
        "stack = []\n",
        "\n",
        "\n",
        "\n",
        "for i in range(n):\n",
        "  now = tops[i]\n",
        "  # 인덱스 0 일때\n",
        "  if len(stack)==0 :\n",
        "    answer.append(0)\n",
        "    stack.append((now,i+1))# 탑높이, 순서번호\n",
        "\n",
        "  else:\n",
        "\n",
        "    while stack:\n",
        "      if len(stack)==1 and stack[-1][0]<now:\n",
        "        answer.append(0)\n",
        "        stack.pop()\n",
        "        stack.append((now,i+1))\n",
        "        break\n",
        "      elif stack[-1][0]>=now:\n",
        "        answer.append(stack[-1][1])\n",
        "        stack.append((now,i+1))\n",
        "        break\n",
        "      stack.pop()\n",
        "for i in answer:\n",
        "  print(i,end=' ')\n",
        "\n",
        "      \n",
        "\n",
        "\n",
        "\n",
        "  \n",
        "  \n",
        "\n"
      ]
    }
  ]
}