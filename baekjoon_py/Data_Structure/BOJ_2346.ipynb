{
  "nbformat": 4,
  "nbformat_minor": 0,
  "metadata": {
    "colab": {
      "provenance": [],
      "authorship_tag": "ABX9TyN6nmrcw7DsBSG4zOa1FHA7",
      "include_colab_link": true
    },
    "kernelspec": {
      "name": "python3",
      "display_name": "Python 3"
    },
    "language_info": {
      "name": "python"
    }
  },
  "cells": [
    {
      "cell_type": "markdown",
      "metadata": {
        "id": "view-in-github",
        "colab_type": "text"
      },
      "source": [
        "<a href=\"https://colab.research.google.com/github/minit88/baekjoon_py/blob/main/Data_Structure/BOJ_2346.ipynb\" target=\"_parent\"><img src=\"https://colab.research.google.com/assets/colab-badge.svg\" alt=\"Open In Colab\"/></a>"
      ]
    },
    {
      "cell_type": "code",
      "execution_count": 8,
      "metadata": {
        "colab": {
          "base_uri": "https://localhost:8080/"
        },
        "id": "5KdbZiPvpMlG",
        "outputId": "8e31943a-358e-4279-e160-bafefc266ccf"
      },
      "outputs": [
        {
          "output_type": "stream",
          "name": "stdout",
          "text": [
            "5\n",
            "3 2 1 -3 -1\n",
            "1 4 5 3 2\n"
          ]
        }
      ],
      "source": [
        "import sys\n",
        "from collections import deque\n",
        "# input = sys.stdin.readline\n",
        "\n",
        "n=int(input())\n",
        "q=deque(enumerate(map(int,input().split()))) # 인덱스, 원소\n",
        "ans = []\n",
        "\n",
        "while q:\n",
        "  idx,paper = q.popleft()\n",
        "  ans.append(idx+1)\n",
        "\n",
        "  if paper>0:\n",
        "    q.rotate(-(paper-1))\n",
        "  else:\n",
        "    q.rotate(-(paper))\n",
        "print(' '.join(map(str,ans)))"
      ]
    }
  ]
}