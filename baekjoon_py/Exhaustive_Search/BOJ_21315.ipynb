{
  "nbformat": 4,
  "nbformat_minor": 0,
  "metadata": {
    "colab": {
      "provenance": [],
      "authorship_tag": "ABX9TyMJOKyAEv5fOTfHSXuj2Jl3"
    },
    "kernelspec": {
      "name": "python3",
      "display_name": "Python 3"
    },
    "language_info": {
      "name": "python"
    }
  },
  "cells": [
    {
      "cell_type": "code",
      "execution_count": 27,
      "metadata": {
        "colab": {
          "base_uri": "https://localhost:8080/"
        },
        "id": "c9mwTFw-kT74",
        "outputId": "20b2091f-1547-4950-dd77-8509a47b5faf"
      },
      "outputs": [
        {
          "output_type": "stream",
          "name": "stdout",
          "text": [
            "5\n",
            "1 3 5 4 2\n",
            "2 1\n"
          ]
        }
      ],
      "source": [
        "from collections import deque\n",
        "from copy import deepcopy\n",
        "\n",
        "N=int(input())\n",
        "target = list(map(int,input().split()))\n",
        "\n",
        "def mixing(array,n):\n",
        "  mix_range = n+1\n",
        "  result=deque([])\n",
        "  array_2 = deepcopy(array)\n",
        "  before_change = deque(array_2) # 이전 이동 리스트\n",
        "\n",
        "  for i in range(1,mix_range+1):\n",
        "    mix_limit = 2**(n-i+1)\n",
        "    if mix_limit <0 :\n",
        "      break\n",
        "    \n",
        "    change = deque([])\n",
        "    for j in range(mix_limit):\n",
        "      a= before_change.pop()\n",
        "      change.appendleft(a)\n",
        "      \n",
        "    result = before_change+result\n",
        "    before_change = change\n",
        "\n",
        "  result.appendleft(change[0])\n",
        "\n",
        "\n",
        "\n",
        "  return list(result)\n",
        "\n",
        "def check(array):\n",
        "  for i in range(0,N):\n",
        "    if array[i]!=target[i] :\n",
        "      return -1\n",
        "  return 0\n",
        "\n",
        "\n",
        "initial_list = [i for i in range(1,N+1)]\n",
        "i1=1\n",
        "j1=1\n",
        "while 2**i1<N:\n",
        "  first_array = mixing(initial_list,i1)\n",
        "  while 2**j1<N:\n",
        "    second_array = mixing(first_array,j1)\n",
        "    if check(second_array)== 0:\n",
        "      print(i1,j1)\n",
        "\n",
        "    j1+=1\n",
        "  j1=1\n",
        "  i1+=1\n",
        "\n",
        "\n",
        "\n",
        "    \n",
        "    \n",
        "    "
      ]
    }
  ]
}