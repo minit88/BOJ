{
  "nbformat": 4,
  "nbformat_minor": 0,
  "metadata": {
    "colab": {
      "provenance": [],
      "authorship_tag": "ABX9TyPFq8tEJqs5Z2kU1Qhw+7Qg"
    },
    "kernelspec": {
      "name": "python3",
      "display_name": "Python 3"
    },
    "language_info": {
      "name": "python"
    }
  },
  "cells": [
    {
      "cell_type": "code",
      "execution_count": 16,
      "metadata": {
        "colab": {
          "base_uri": "https://localhost:8080/"
        },
        "id": "8gIutKgBI9Rj",
        "outputId": "71de2d69-a908-42a9-f283-d84221ab2094"
      },
      "outputs": [
        {
          "name": "stdout",
          "output_type": "stream",
          "text": [
            "1 1\n",
            "8\n"
          ]
        },
        {
          "output_type": "execute_result",
          "data": {
            "text/plain": [
              "8"
            ]
          },
          "metadata": {},
          "execution_count": 16
        }
      ],
      "source": [
        "n,m = map(int,input().split())\n",
        "array = []\n",
        "for i in range(n):\n",
        "  array.append(list(map(int,input())))\n",
        "\n",
        "def bit_mask():\n",
        "  max_sum=0\n",
        "  \n",
        "  for i in range(1<<n*m):\n",
        "    total = 0\n",
        "    # 가로 합\n",
        "    for row in range(n):\n",
        "      row_sum = 0\n",
        "      for col in range(m):\n",
        "        idx = row*m+col\n",
        "        if i&(1<<idx) != 0: # 해당 인덱스가 가로합(1일)경우\n",
        "          row_sum = row_sum * 10 + array[row][col]\n",
        "        else:\n",
        "          total+=row_sum\n",
        "          row_sum=0\n",
        "      total+=row_sum \n",
        "\n",
        "    #세로 합\n",
        "    for col in range(m):\n",
        "      col_sum= 0\n",
        "      for row in range(n):\n",
        "        idx = row*m+col\n",
        "        if i&(1<<idx) == 0: # 해당 인덱스가 세로합(0일)경우\n",
        "          col_sum = col_sum * 10 + array[row][col]\n",
        "        else:\n",
        "          total+=col_sum\n",
        "          col_sum=0 \n",
        "      total+=col_sum\n",
        "\n",
        "    max_sum=max(max_sum,total)\n",
        "\n",
        "  return max_sum\n",
        "\n",
        "\n",
        "result=bit_mask()\n",
        "print(result)"
      ]
    },
    {
      "cell_type": "markdown",
      "source": [
        "https://vixxcode.tistory.com/23 참조"
      ],
      "metadata": {
        "id": "G8UjK537I_F7"
      }
    }
  ]
}