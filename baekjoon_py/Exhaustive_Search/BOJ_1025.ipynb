{
  "nbformat": 4,
  "nbformat_minor": 0,
  "metadata": {
    "colab": {
      "provenance": [],
      "authorship_tag": "ABX9TyMnkZpsk5xVpTZD2wPXoiow"
    },
    "kernelspec": {
      "name": "python3",
      "display_name": "Python 3"
    },
    "language_info": {
      "name": "python"
    }
  },
  "cells": [
    {
      "cell_type": "code",
      "execution_count": 15,
      "metadata": {
        "colab": {
          "base_uri": "https://localhost:8080/"
        },
        "id": "q3jc3Jxdcwt3",
        "outputId": "5b4b9b18-93ab-4f01-9eb9-8ab765aaed42"
      },
      "outputs": [
        {
          "output_type": "stream",
          "name": "stdout",
          "text": [
            "2 3\n",
            "123\n",
            "456\n",
            "64\n"
          ]
        }
      ],
      "source": [
        "# 행,열 의 인덱스가 공차\n",
        "\n",
        "\n",
        "import math\n",
        "\n",
        "n,m = map(int,input().split()) # 열 행\n",
        "array = []\n",
        "\n",
        "for i in range(n):\n",
        "  array.append(list(map(str,input())))\n",
        "\n",
        "ans = -1\n",
        "for i in range(n):\n",
        "  for j in range(m):\n",
        "    for a in range(-n,n):\n",
        "      for b in range(-m,m):\n",
        "        if a==0 and b ==0 :\n",
        "          continue\n",
        "        string = []\n",
        "\n",
        "        now_row = j\n",
        "        now_col = i\n",
        "\n",
        "        while (0<=now_row<m) and (0<=now_col<n) : # 정해진 행,열 공차로 범위 내에 속할 때까지 반복\n",
        "          string.append(array[now_col][now_row])\n",
        "\n",
        "          val= math.sqrt(int(\"\".join(string))) # 제곱근 반환\n",
        "          if val == int(val): # 제곱근이 정수일 때\n",
        "            ans = max(ans,int(val)**2)\n",
        "          now_row += b\n",
        "          now_col += a\n",
        "  \n",
        "print(ans)\n"
      ]
    }
  ]
}