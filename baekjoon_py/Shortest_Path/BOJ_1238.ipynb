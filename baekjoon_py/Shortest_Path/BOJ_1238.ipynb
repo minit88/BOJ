{
  "nbformat": 4,
  "nbformat_minor": 0,
  "metadata": {
    "colab": {
      "provenance": [],
      "authorship_tag": "ABX9TyPg3cX34jenc2cUEWLFhlMA",
      "include_colab_link": true
    },
    "kernelspec": {
      "name": "python3",
      "display_name": "Python 3"
    },
    "language_info": {
      "name": "python"
    }
  },
  "cells": [
    {
      "cell_type": "markdown",
      "metadata": {
        "id": "view-in-github",
        "colab_type": "text"
      },
      "source": [
        "<a href=\"https://colab.research.google.com/github/minit88/baekjoon_py/blob/main/Shortest_Path/BOJ_1238.ipynb\" target=\"_parent\"><img src=\"https://colab.research.google.com/assets/colab-badge.svg\" alt=\"Open In Colab\"/></a>"
      ]
    },
    {
      "cell_type": "code",
      "execution_count": 9,
      "metadata": {
        "colab": {
          "base_uri": "https://localhost:8080/"
        },
        "id": "YPjNS2UZ-hOm",
        "outputId": "fdfb5f08-71f1-4407-e2d9-44b4dd0566b7"
      },
      "outputs": [
        {
          "output_type": "stream",
          "name": "stdout",
          "text": [
            "4 8 2\n",
            "1 2 4\n",
            "1 3 2\n",
            "1 4 7\n",
            "2 1 1\n",
            "2 3 5\n",
            "3 1 2\n",
            "3 4 4\n",
            "4 2 3\n",
            "10\n"
          ]
        }
      ],
      "source": [
        "import heapq\n",
        "\n",
        "\n",
        "INF = int(1e9) # 무한대 변수\n",
        "answer = 0\n",
        "\n",
        "n,m,x = map(int,input().split()) # N명의 학생(마을) , m 도로 개수, x 파티 장소\n",
        "\n",
        "\n",
        "# 도로 간선 정보\n",
        "graph_list = [[] for i in range(n+1)]\n",
        "# 목적지에서 각 마을까지의 거리정보\n",
        "distance = [INF]*(n+1)\n",
        "\n",
        "\n",
        "# 도로 간선정보를 입력받음\n",
        "for i in range(m):\n",
        "  a,b,c=map(int,input().split())\n",
        "  graph_list[a].append((b,c)) # 도착지, 비용\n",
        "\n",
        "\n",
        "\n",
        "\n",
        "# 각각의 마을에서 목적지까지 최소 거리 = 다익스트라 알고리즘\n",
        "def dijkstra_start(start):\n",
        "  distance_start = [INF]*(n+1)\n",
        "  q=[]\n",
        "  heapq.heappush(q,(0,start)) # 거리, 시작노드\n",
        "  distance_start[start]=0\n",
        "\n",
        "  while q:\n",
        "    dist,now = heapq.heappop(q)\n",
        "    if dist > distance_start[now]: # 방문한 적이 있으면 종료\n",
        "      continue \n",
        "    for i in graph_list[now]: # 현재 노드에서 연결된 간선 정보 확인\n",
        "      cost = dist+i[1]\n",
        "      if cost<distance_start[i[0]]:\n",
        "        distance_start[i[0]]=cost\n",
        "        heapq.heappush(q,(cost,i[0]))\n",
        "\n",
        "  return distance_start[x]\n",
        "\n",
        "# 목적지에서 각각의 마을로의 최소 거리 = 다익스트라 알고리즘\n",
        "def dijkstra(start):\n",
        "  \n",
        "  q=[]\n",
        "  heapq.heappush(q,(0,start)) # 거리, 시작노드\n",
        "  distance[start]=0\n",
        "\n",
        "  while q:\n",
        "    dist,now = heapq.heappop(q)\n",
        "    if dist > distance[now]: # 방문한 적이 있으면 종료\n",
        "      continue \n",
        "    for i in graph_list[now]: # 현재 노드에서 연결된 간선 정보 확인\n",
        "      cost = dist+i[1]\n",
        "      if cost<distance[i[0]]:\n",
        "        distance[i[0]]=cost\n",
        "        heapq.heappush(q,(cost,i[0]))\n",
        "\n",
        "dijkstra(x)\n",
        "for i in range(1,n+1):\n",
        "  answer = max(answer,distance[i]+dijkstra_start(i))\n",
        "\n",
        "print(answer)\n",
        "\n",
        "\n",
        "\n"
      ]
    }
  ]
}