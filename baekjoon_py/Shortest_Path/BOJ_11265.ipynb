{
  "nbformat": 4,
  "nbformat_minor": 0,
  "metadata": {
    "colab": {
      "provenance": [],
      "authorship_tag": "ABX9TyNuqZTJc2qIf3RZlyPdk7mV",
      "include_colab_link": true
    },
    "kernelspec": {
      "name": "python3",
      "display_name": "Python 3"
    },
    "language_info": {
      "name": "python"
    }
  },
  "cells": [
    {
      "cell_type": "markdown",
      "metadata": {
        "id": "view-in-github",
        "colab_type": "text"
      },
      "source": [
        "<a href=\"https://colab.research.google.com/github/minit88/baekjoon_py/blob/main/Shortest_Path/BOJ_11265.ipynb\" target=\"_parent\"><img src=\"https://colab.research.google.com/assets/colab-badge.svg\" alt=\"Open In Colab\"/></a>"
      ]
    },
    {
      "cell_type": "code",
      "execution_count": 14,
      "metadata": {
        "colab": {
          "base_uri": "https://localhost:8080/"
        },
        "id": "xQHvlOyOfD_i",
        "outputId": "47c3b8f1-b157-48c9-8424-6283cbe721a3"
      },
      "outputs": [
        {
          "output_type": "stream",
          "name": "stdout",
          "text": [
            "5 10\n",
            "0 4 4 8 7\n",
            "7 0 7 7 4\n",
            "1 4 0 5 4\n",
            "5 2 2 0 7\n",
            "1 4 1 6 0\n",
            "1 3 8\n",
            "Enjoy other party\n",
            "2 4 1\n",
            "Stay here\n",
            "4 1 1\n",
            "Stay here\n",
            "1 5 5\n",
            "Stay here\n",
            "3 2 1\n",
            "Stay here\n",
            "3 2 5\n",
            "Enjoy other party\n",
            "4 5 10\n",
            "Enjoy other party\n",
            "5 3 2\n",
            "Enjoy other party\n",
            "1 4 1\n",
            "Stay here\n",
            "1 4 11\n",
            "Enjoy other party\n"
          ]
        }
      ],
      "source": [
        "n,m = map(int,input().split())\n",
        "INF = int(1e9)\n",
        "array =[]\n",
        "# A-B 파티장 이동 시간 입력\n",
        "for i in range(n):\n",
        "  array.append(list(map(int,input().split())))\n",
        "\n",
        "\n",
        "\n",
        "for k in range(n):\n",
        "  for i in range(n):\n",
        "    for j in range(n):\n",
        "\n",
        "      array[i][j] = min(array[i][j],array[i][k]+array[k][j])\n",
        "\n",
        "\n",
        "# 손님 요청\n",
        "for i in range(m):\n",
        "  a,b,t= map(int,input().split())\n",
        "  if array[a-1][b-1] <=t:\n",
        "    print(\"Enjoy other party\")\n",
        "  else:\n",
        "    print(\"Stay here\")\n",
        "\n"
      ]
    },
    {
      "cell_type": "code",
      "source": [
        "distance"
      ],
      "metadata": {
        "colab": {
          "base_uri": "https://localhost:8080/"
        },
        "id": "bbiIjRp5jm57",
        "outputId": "976df083-237c-446c-e01d-ad31903a0ad2"
      },
      "execution_count": 15,
      "outputs": [
        {
          "output_type": "execute_result",
          "data": {
            "text/plain": [
              "[[1000000000, 4, 4, 8, 7],\n",
              " [5, 1000000000, 5, 7, 4],\n",
              " [1, 4, 1000000000, 5, 4],\n",
              " [3, 2, 2, 1000000000, 6],\n",
              " [1, 4, 1, 6, 1000000000]]"
            ]
          },
          "metadata": {},
          "execution_count": 15
        }
      ]
    },
    {
      "cell_type": "code",
      "source": [],
      "metadata": {
        "colab": {
          "base_uri": "https://localhost:8080/"
        },
        "id": "TmJHIMxRjyi4",
        "outputId": "38b8213f-2cef-43d4-faeb-73acaf7692fe"
      },
      "execution_count": 11,
      "outputs": [
        {
          "output_type": "stream",
          "name": "stdout",
          "text": [
            "1 3 8\n",
            "Enjoy other party\n",
            "2 4 1\n",
            "Stay here\n",
            "4 1 1\n",
            "Stay here\n",
            "1 5 5\n",
            "Stay here\n",
            "3 2 1\n",
            "Stay here\n",
            "3 2 5\n",
            "Enjoy other party\n",
            "4 5 10\n",
            "Enjoy other party\n",
            "5 3 2\n",
            "Enjoy other party\n",
            "1 4 1\n",
            "Stay here\n",
            "1 4 11\n",
            "Enjoy other party\n"
          ]
        }
      ]
    }
  ]
}