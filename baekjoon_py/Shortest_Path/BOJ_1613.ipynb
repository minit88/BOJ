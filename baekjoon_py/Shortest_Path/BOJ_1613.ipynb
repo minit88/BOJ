{
  "nbformat": 4,
  "nbformat_minor": 0,
  "metadata": {
    "colab": {
      "provenance": [],
      "authorship_tag": "ABX9TyNn3U8lUHp9EupRyrPhT6Ze"
    },
    "kernelspec": {
      "name": "python3",
      "display_name": "Python 3"
    },
    "language_info": {
      "name": "python"
    }
  },
  "cells": [
    {
      "cell_type": "code",
      "execution_count": null,
      "metadata": {
        "id": "-0CA7GQw-hIF"
      },
      "outputs": [],
      "source": [
        "from collections import deque\n",
        "\n",
        "\n",
        "\n",
        "n,k = map(int,input().split())\n",
        "\n",
        "# 연결정보 입력\n",
        "graph= [[] for i in range(n+1)] \n",
        "indegree = [0]*(n+1)\n",
        "unknown = [] # 순위 정보 불명확한 노드\n",
        "answer = []\n",
        "\n",
        "for i in range(k):\n",
        "  a,b = map(int,input().split())\n",
        "  graph[a].append(b)\n",
        "  indegree[b]+=1\n",
        "\n",
        "\n",
        "def topology():\n",
        "  q=deque([])\n",
        "  for i in range(n+1):\n",
        "    if indegree[i] == 0:\n",
        "      q.append(i)\n",
        "\n",
        "\n",
        "  while q:\n",
        "    now = q.popleft()\n",
        "\n",
        "    # 연결된 간선정보가 없을 경우 즉, 순위를 매길 수 없을 때\n",
        "    if len(graph[now]) == 0: \n",
        "      unknown.append(now)\n",
        "\n",
        "    else:\n",
        "      for i in graph[now]:\n",
        "\n",
        "\n",
        "## 위상정렬로 풀려고 했으나, 우선순위가 불분명할 경우 판별 비효율적"
      ]
    },
    {
      "cell_type": "code",
      "source": [
        "# 플로이드 워셜\n",
        "# 해당 노드까지 갈 수만 있으면 테이블을 초기화. (두 노드 사이의 우선순위를 구할 수 있다.)\n",
        "\n",
        "\n",
        "n,k = map(int,input().split())\n",
        "INF = int(1e9)\n",
        "\n",
        "distance=[[INF]*(n+1) for i in range(n+1)]\n",
        "\n",
        "for i in range(1,n+1):\n",
        "  for j in range(1,n+1):\n",
        "    if i==j :\n",
        "      distance[i][j] =0\n",
        "    \n",
        "for i in range(k):\n",
        "  a,b = map(int,input().split())\n",
        "  distance[a][b]=1\n",
        "\n",
        "for k in range(1,n+1):\n",
        "  for i in range(1,n+1):\n",
        "    for j in range(1,n+1):\n",
        "      distance[i][j] = min(distance[i][j],distance[i][k]+distance[k][j])\n",
        "\n",
        "for i in range(int(input())):\n",
        "  a,b = map(int,input().split())\n",
        "  if ( distance[a][b] >= INF and distance[b][a] >= INF ) or a==b : \n",
        "    print(0)\n",
        "  else:\n",
        "    if distance[a][b] >= INF :\n",
        "      print(1)\n",
        "    elif distance[a][b]< INF :\n",
        "      print(-1)"
      ],
      "metadata": {
        "colab": {
          "base_uri": "https://localhost:8080/"
        },
        "id": "HxRVxp1HFMCn",
        "outputId": "ac15c95a-41e4-4f6e-a062-8ea13bac6fb8"
      },
      "execution_count": 4,
      "outputs": [
        {
          "output_type": "stream",
          "name": "stdout",
          "text": [
            "5 5\n",
            "1 2\n",
            "1 3\n",
            "2 3\n",
            "3 4\n",
            "2 4\n",
            "3\n",
            "1 5\n",
            "0\n",
            "2 4\n",
            "-1\n",
            "3 1\n",
            "1\n"
          ]
        }
      ]
    }
  ]
}