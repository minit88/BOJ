{
  "nbformat": 4,
  "nbformat_minor": 0,
  "metadata": {
    "colab": {
      "provenance": []
    },
    "kernelspec": {
      "name": "python3",
      "display_name": "Python 3"
    },
    "language_info": {
      "name": "python"
    }
  },
  "cells": [
    {
      "cell_type": "code",
      "execution_count": null,
      "metadata": {
        "id": "qhDPzoZ_-S76"
      },
      "outputs": [],
      "source": [
        "import heapq\n",
        "import sys\n",
        "input = lambda : sys.stdin.readline().rstrip()\n",
        "n=int(input())\n",
        "INF = int(1e9)\n",
        "\n",
        "a,b,c = map(int,input().split())\n",
        "\n",
        "\n",
        "m=int(input())\n",
        "graph = [[]for i in range(n+1)]\n",
        "for i in range(m):\n",
        "  d,e,dis = map(int,input().split())\n",
        "  graph[d].append((e,dis))\n",
        "  graph[e].append((d,dis))\n",
        "\n",
        "def dijkstra(start):\n",
        "  q=[[0,start]]\n",
        "  distance = [INF for i in range(n+1)]\n",
        "  distance[start]=0\n",
        "  while q:\n",
        "    dist,now = heapq.heappop(q)\n",
        "    if dist!=distance[now]:\n",
        "      continue\n",
        "    for next_node,next_dist in graph[now]:\n",
        "      cost = dist+next_dist\n",
        "      if cost<distance[next_node]:\n",
        "        distance[next_node]=cost\n",
        "        heapq.heappush(q,[distance[next_node],next_node])\n",
        "  \n",
        "  return distance\n",
        "\n",
        "max_dist = 0\n",
        "dist_a = dijkstra(a)\n",
        "dist_b = dijkstra(b)\n",
        "dist_c = dijkstra(c)\n",
        "\n",
        "for i in range(1,n+1):\n",
        "  if max_dist<min(dist_a[i],dist_b[i],dist_c[i]):\n",
        "    result=i\n",
        "    max_dist=min(dist_a[i],dist_b[i],dist_c[i])\n",
        "\n",
        "\n",
        "print(result)\n",
        "\n",
        "\n"
      ]
    }
  ]
}