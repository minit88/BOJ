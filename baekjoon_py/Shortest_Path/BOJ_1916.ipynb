{
  "nbformat": 4,
  "nbformat_minor": 0,
  "metadata": {
    "colab": {
      "provenance": [],
      "authorship_tag": "ABX9TyODFgxJUECm+gsp7ck8euz5"
    },
    "kernelspec": {
      "name": "python3",
      "display_name": "Python 3"
    },
    "language_info": {
      "name": "python"
    }
  },
  "cells": [
    {
      "cell_type": "code",
      "execution_count": 18,
      "metadata": {
        "colab": {
          "base_uri": "https://localhost:8080/"
        },
        "id": "ybJbY_mjkTyI",
        "outputId": "00836914-732b-47f7-cc74-d30686d8e4f5"
      },
      "outputs": [
        {
          "output_type": "stream",
          "name": "stdout",
          "text": [
            "5\n",
            "8\n",
            "1 2 2\n",
            "1 3 3\n",
            "1 4 1\n",
            "1 5 10\n",
            "2 4 2\n",
            "3 4 1\n",
            "3 5 1\n",
            "4 5 3\n",
            "1 5\n",
            "4\n"
          ]
        }
      ],
      "source": [
        "import heapq\n",
        "\n",
        "n= int(input())\n",
        "m=int(input())\n",
        "inf = int(1e9)\n",
        "\n",
        "cost=inf\n",
        "\n",
        "graph = [[] for i in range(n+1)]\n",
        "\n",
        "distance = [inf]*(n+1)\n",
        "\n",
        "def dijkstra(start,final):\n",
        "  q=[]\n",
        "  heapq.heappush(q,(start,0))\n",
        "  distance[start]=0\n",
        "\n",
        "  while q:\n",
        "    now,dist = heapq.heappop(q)\n",
        "\n",
        "    if distance[now]<dist: # 이미 처리된 적이 있으면\n",
        "      continue\n",
        "    \n",
        "    for next_node,next_dist in graph[now]:\n",
        "      if dist+next_dist < distance[next_node]:\n",
        "        distance[next_node]=dist+next_dist\n",
        "        heapq.heappush(q,(next_node,dist+next_dist))\n",
        "\n",
        "  return distance[final]\n",
        "\n",
        "\n",
        "\n",
        "if n>1:\n",
        "  for i in range(m):\n",
        "    a,b,c = map(int,input().split())\n",
        "    graph[a].append((b,c))\n",
        "\n",
        "  start_node,final_node = map(int,input().split())\n",
        "\n",
        "  cost = dijkstra(start_node,final_node)\n",
        "  print(cost)\n",
        "\n",
        "else:\n",
        "  for i in range(m):\n",
        "    a,b,c = map(int,input().split())\n",
        "    cost = min(inf,c)\n",
        "\n",
        "  start_node,final_node = map(int,input().split())\n",
        "\n",
        "  print(cost)\n",
        "\n",
        "\n",
        "\n",
        "\n",
        "\n",
        "\n",
        "\n",
        "\n"
      ]
    }
  ]
}